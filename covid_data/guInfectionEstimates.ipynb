{
 "cells": [
  {
   "cell_type": "code",
   "execution_count": 83,
   "metadata": {},
   "outputs": [],
   "source": [
    "import pandas as pd\n",
    "import datetime"
   ]
  },
  {
   "cell_type": "code",
   "execution_count": 84,
   "metadata": {},
   "outputs": [],
   "source": [
    "url= \"https://raw.githubusercontent.com/youyanggu/covid19_projections/master/infection_estimates/latest_all_estimates_states.csv\"\n",
    "url_usa = \"https://raw.githubusercontent.com/youyanggu/covid19_projections/master/infection_estimates/latest_all_estimates_us.csv\""
   ]
  },
  {
   "cell_type": "code",
   "execution_count": 85,
   "metadata": {},
   "outputs": [],
   "source": [
    "population_url = 'https://www2.census.gov/programs-surveys/popest/datasets/2010-2019/state/detail/SCPRC-EST2019-18+POP-RES.csv'"
   ]
  },
  {
   "cell_type": "code",
   "execution_count": 86,
   "metadata": {},
   "outputs": [],
   "source": [
    "df_states = pd.read_csv(url)\n",
    "df_usa = pd.read_csv(url_usa)"
   ]
  },
  {
   "cell_type": "code",
   "execution_count": 87,
   "metadata": {},
   "outputs": [],
   "source": [
    "# makes it easier to graph\n",
    "df_states = df_states.fillna(0)\n",
    "df_states['date'] = pd.to_datetime(df_states['date'], format=\"%Y-%m-%d\")\n",
    "df_usa = df_usa.fillna(0)\n",
    "df_usa['date'] = pd.to_datetime(df_usa['date'], format=\"%Y-%m-%d\")"
   ]
  },
  {
   "cell_type": "code",
   "execution_count": 88,
   "metadata": {},
   "outputs": [
    {
     "name": "stdout",
     "output_type": "stream",
     "text": [
      "The report today is from 2020-12-27 and the 7d MA is 179,680.0 on 1,817,620.0 tests with an adjusted positivity rate of 9.89% data: covid19-projections.com\n"
     ]
    }
   ],
   "source": [
    "date = df_usa['date'].iloc[-1]\n",
    "cases = df_usa['daily_positive_7day_ma'].iloc[-1]\n",
    "tests = df_usa['daily_tests_7day_ma'].iloc[-1]\n",
    "adj_pos_rate = df_usa['positivity_rate_7day_ma'].iloc[-1]\n",
    "\n",
    "print(f'The report today is from {date:%Y-%m-%d} and the 7d MA is {cases:,} on {tests:,} tests \\\n",
    "with an adjusted positivity rate of {adj_pos_rate:.2%} data: covid19-projections.com')"
   ]
  },
  {
   "cell_type": "code",
   "execution_count": 82,
   "metadata": {},
   "outputs": [],
   "source": [
    "df_states.to_csv('infectionEstimates.csv', index=False)\n",
    "df_usa.to_csv('infectionEstimates_usa.csv', index=False)"
   ]
  },
  {
   "cell_type": "code",
   "execution_count": 55,
   "metadata": {},
   "outputs": [
    {
     "data": {
      "text/html": [
       "<div>\n",
       "<style scoped>\n",
       "    .dataframe tbody tr th:only-of-type {\n",
       "        vertical-align: middle;\n",
       "    }\n",
       "\n",
       "    .dataframe tbody tr th {\n",
       "        vertical-align: top;\n",
       "    }\n",
       "\n",
       "    .dataframe thead th {\n",
       "        text-align: right;\n",
       "    }\n",
       "</style>\n",
       "<table border=\"1\" class=\"dataframe\">\n",
       "  <thead>\n",
       "    <tr style=\"text-align: right;\">\n",
       "      <th></th>\n",
       "      <th>date</th>\n",
       "      <th>total_cases</th>\n",
       "      <th>total_deaths</th>\n",
       "      <th>total_tests</th>\n",
       "      <th>current_hospitalized</th>\n",
       "      <th>daily_positive_7day_ma</th>\n",
       "      <th>daily_deaths_7day_ma</th>\n",
       "      <th>daily_tests_7day_ma</th>\n",
       "      <th>positivity_rate_orig_7day_ma</th>\n",
       "      <th>positivity_rate_7day_ma</th>\n",
       "      <th>...</th>\n",
       "      <th>current_infected_upper</th>\n",
       "      <th>perc_current_infected_mean</th>\n",
       "      <th>perc_current_infected_lower</th>\n",
       "      <th>perc_current_infected_upper</th>\n",
       "      <th>total_infected_mean</th>\n",
       "      <th>total_infected_lower</th>\n",
       "      <th>total_infected_upper</th>\n",
       "      <th>perc_total_infected_mean</th>\n",
       "      <th>perc_total_infected_lower</th>\n",
       "      <th>perc_total_infected_upper</th>\n",
       "    </tr>\n",
       "  </thead>\n",
       "  <tbody>\n",
       "    <tr>\n",
       "      <th>293</th>\n",
       "      <td>2020-12-01</td>\n",
       "      <td>13641607</td>\n",
       "      <td>262203</td>\n",
       "      <td>196979678</td>\n",
       "      <td>98777.0</td>\n",
       "      <td>161036.0</td>\n",
       "      <td>1524.86</td>\n",
       "      <td>1653170.0</td>\n",
       "      <td>0.101028</td>\n",
       "      <td>0.097411</td>\n",
       "      <td>...</td>\n",
       "      <td>13340100.0</td>\n",
       "      <td>0.026797</td>\n",
       "      <td>0.017865</td>\n",
       "      <td>0.040196</td>\n",
       "      <td>58675200.0</td>\n",
       "      <td>39116800.0</td>\n",
       "      <td>88012800.0</td>\n",
       "      <td>0.176799</td>\n",
       "      <td>0.117866</td>\n",
       "      <td>0.265198</td>\n",
       "    </tr>\n",
       "    <tr>\n",
       "      <th>294</th>\n",
       "      <td>2020-12-02</td>\n",
       "      <td>13842777</td>\n",
       "      <td>265007</td>\n",
       "      <td>198535645</td>\n",
       "      <td>100322.0</td>\n",
       "      <td>163041.0</td>\n",
       "      <td>1599.71</td>\n",
       "      <td>1612700.0</td>\n",
       "      <td>0.104805</td>\n",
       "      <td>0.101099</td>\n",
       "      <td>...</td>\n",
       "      <td>13531900.0</td>\n",
       "      <td>0.027183</td>\n",
       "      <td>0.018122</td>\n",
       "      <td>0.040774</td>\n",
       "      <td>59307400.0</td>\n",
       "      <td>39538300.0</td>\n",
       "      <td>88961100.0</td>\n",
       "      <td>0.178704</td>\n",
       "      <td>0.119136</td>\n",
       "      <td>0.268056</td>\n",
       "    </tr>\n",
       "    <tr>\n",
       "      <th>295</th>\n",
       "      <td>2020-12-03</td>\n",
       "      <td>14056416</td>\n",
       "      <td>267832</td>\n",
       "      <td>200429201</td>\n",
       "      <td>100755.0</td>\n",
       "      <td>175174.0</td>\n",
       "      <td>1805.14</td>\n",
       "      <td>1702250.0</td>\n",
       "      <td>0.106475</td>\n",
       "      <td>0.102907</td>\n",
       "      <td>...</td>\n",
       "      <td>13703100.0</td>\n",
       "      <td>0.027526</td>\n",
       "      <td>0.018351</td>\n",
       "      <td>0.041290</td>\n",
       "      <td>59938100.0</td>\n",
       "      <td>39958700.0</td>\n",
       "      <td>89907200.0</td>\n",
       "      <td>0.180604</td>\n",
       "      <td>0.120403</td>\n",
       "      <td>0.270906</td>\n",
       "    </tr>\n",
       "    <tr>\n",
       "      <th>296</th>\n",
       "      <td>2020-12-04</td>\n",
       "      <td>14285608</td>\n",
       "      <td>270405</td>\n",
       "      <td>202329587</td>\n",
       "      <td>101276.0</td>\n",
       "      <td>179747.0</td>\n",
       "      <td>1973.86</td>\n",
       "      <td>1685900.0</td>\n",
       "      <td>0.110515</td>\n",
       "      <td>0.106618</td>\n",
       "      <td>...</td>\n",
       "      <td>13849000.0</td>\n",
       "      <td>0.027820</td>\n",
       "      <td>0.018547</td>\n",
       "      <td>0.041730</td>\n",
       "      <td>60567800.0</td>\n",
       "      <td>40378500.0</td>\n",
       "      <td>90851700.0</td>\n",
       "      <td>0.182501</td>\n",
       "      <td>0.121668</td>\n",
       "      <td>0.273752</td>\n",
       "    </tr>\n",
       "    <tr>\n",
       "      <th>297</th>\n",
       "      <td>2020-12-05</td>\n",
       "      <td>14502286</td>\n",
       "      <td>272885</td>\n",
       "      <td>204539112</td>\n",
       "      <td>101192.0</td>\n",
       "      <td>189104.0</td>\n",
       "      <td>2149.43</td>\n",
       "      <td>1766300.0</td>\n",
       "      <td>0.111035</td>\n",
       "      <td>0.107062</td>\n",
       "      <td>...</td>\n",
       "      <td>13969700.0</td>\n",
       "      <td>0.028062</td>\n",
       "      <td>0.018708</td>\n",
       "      <td>0.042093</td>\n",
       "      <td>61199100.0</td>\n",
       "      <td>40799400.0</td>\n",
       "      <td>91798600.0</td>\n",
       "      <td>0.184404</td>\n",
       "      <td>0.122936</td>\n",
       "      <td>0.276605</td>\n",
       "    </tr>\n",
       "    <tr>\n",
       "      <th>298</th>\n",
       "      <td>2020-12-06</td>\n",
       "      <td>14683482</td>\n",
       "      <td>274030</td>\n",
       "      <td>206139403</td>\n",
       "      <td>101501.0</td>\n",
       "      <td>195525.0</td>\n",
       "      <td>2195.43</td>\n",
       "      <td>1813820.0</td>\n",
       "      <td>0.111844</td>\n",
       "      <td>0.107797</td>\n",
       "      <td>...</td>\n",
       "      <td>14062900.0</td>\n",
       "      <td>0.028249</td>\n",
       "      <td>0.018833</td>\n",
       "      <td>0.042374</td>\n",
       "      <td>61831100.0</td>\n",
       "      <td>41220700.0</td>\n",
       "      <td>92746600.0</td>\n",
       "      <td>0.186308</td>\n",
       "      <td>0.124205</td>\n",
       "      <td>0.279462</td>\n",
       "    </tr>\n",
       "    <tr>\n",
       "      <th>299</th>\n",
       "      <td>2020-12-07</td>\n",
       "      <td>14864420</td>\n",
       "      <td>275327</td>\n",
       "      <td>207857754</td>\n",
       "      <td>102148.0</td>\n",
       "      <td>200146.0</td>\n",
       "      <td>2232.86</td>\n",
       "      <td>1829150.0</td>\n",
       "      <td>0.113450</td>\n",
       "      <td>0.109420</td>\n",
       "      <td>...</td>\n",
       "      <td>0.0</td>\n",
       "      <td>0.000000</td>\n",
       "      <td>0.000000</td>\n",
       "      <td>0.000000</td>\n",
       "      <td>0.0</td>\n",
       "      <td>0.0</td>\n",
       "      <td>0.0</td>\n",
       "      <td>0.000000</td>\n",
       "      <td>0.000000</td>\n",
       "      <td>0.000000</td>\n",
       "    </tr>\n",
       "    <tr>\n",
       "      <th>300</th>\n",
       "      <td>2020-12-08</td>\n",
       "      <td>15079532</td>\n",
       "      <td>278030</td>\n",
       "      <td>209530230</td>\n",
       "      <td>104623.0</td>\n",
       "      <td>205418.0</td>\n",
       "      <td>2261.00</td>\n",
       "      <td>1872620.0</td>\n",
       "      <td>0.114571</td>\n",
       "      <td>0.109695</td>\n",
       "      <td>...</td>\n",
       "      <td>0.0</td>\n",
       "      <td>0.000000</td>\n",
       "      <td>0.000000</td>\n",
       "      <td>0.000000</td>\n",
       "      <td>0.0</td>\n",
       "      <td>0.0</td>\n",
       "      <td>0.0</td>\n",
       "      <td>0.000000</td>\n",
       "      <td>0.000000</td>\n",
       "      <td>0.000000</td>\n",
       "    </tr>\n",
       "    <tr>\n",
       "      <th>301</th>\n",
       "      <td>2020-12-09</td>\n",
       "      <td>15293715</td>\n",
       "      <td>281194</td>\n",
       "      <td>211341116</td>\n",
       "      <td>106705.0</td>\n",
       "      <td>207277.0</td>\n",
       "      <td>2312.43</td>\n",
       "      <td>1908280.0</td>\n",
       "      <td>0.113306</td>\n",
       "      <td>0.108620</td>\n",
       "      <td>...</td>\n",
       "      <td>0.0</td>\n",
       "      <td>0.000000</td>\n",
       "      <td>0.000000</td>\n",
       "      <td>0.000000</td>\n",
       "      <td>0.0</td>\n",
       "      <td>0.0</td>\n",
       "      <td>0.0</td>\n",
       "      <td>0.000000</td>\n",
       "      <td>0.000000</td>\n",
       "      <td>0.000000</td>\n",
       "    </tr>\n",
       "    <tr>\n",
       "      <th>302</th>\n",
       "      <td>2020-12-10</td>\n",
       "      <td>15512666</td>\n",
       "      <td>284309</td>\n",
       "      <td>213231180</td>\n",
       "      <td>107276.0</td>\n",
       "      <td>208036.0</td>\n",
       "      <td>2353.86</td>\n",
       "      <td>1907600.0</td>\n",
       "      <td>0.113752</td>\n",
       "      <td>0.109056</td>\n",
       "      <td>...</td>\n",
       "      <td>0.0</td>\n",
       "      <td>0.000000</td>\n",
       "      <td>0.000000</td>\n",
       "      <td>0.000000</td>\n",
       "      <td>0.0</td>\n",
       "      <td>0.0</td>\n",
       "      <td>0.0</td>\n",
       "      <td>0.000000</td>\n",
       "      <td>0.000000</td>\n",
       "      <td>0.000000</td>\n",
       "    </tr>\n",
       "    <tr>\n",
       "      <th>303</th>\n",
       "      <td>2020-12-11</td>\n",
       "      <td>15747483</td>\n",
       "      <td>287058</td>\n",
       "      <td>215221435</td>\n",
       "      <td>108108.0</td>\n",
       "      <td>208839.0</td>\n",
       "      <td>2379.00</td>\n",
       "      <td>1919680.0</td>\n",
       "      <td>0.113395</td>\n",
       "      <td>0.108789</td>\n",
       "      <td>...</td>\n",
       "      <td>0.0</td>\n",
       "      <td>0.000000</td>\n",
       "      <td>0.000000</td>\n",
       "      <td>0.000000</td>\n",
       "      <td>0.0</td>\n",
       "      <td>0.0</td>\n",
       "      <td>0.0</td>\n",
       "      <td>0.000000</td>\n",
       "      <td>0.000000</td>\n",
       "      <td>0.000000</td>\n",
       "    </tr>\n",
       "    <tr>\n",
       "      <th>304</th>\n",
       "      <td>2020-12-12</td>\n",
       "      <td>15971959</td>\n",
       "      <td>289552</td>\n",
       "      <td>217032203</td>\n",
       "      <td>108461.0</td>\n",
       "      <td>209953.0</td>\n",
       "      <td>2381.00</td>\n",
       "      <td>1860630.0</td>\n",
       "      <td>0.117639</td>\n",
       "      <td>0.112840</td>\n",
       "      <td>...</td>\n",
       "      <td>0.0</td>\n",
       "      <td>0.000000</td>\n",
       "      <td>0.000000</td>\n",
       "      <td>0.000000</td>\n",
       "      <td>0.0</td>\n",
       "      <td>0.0</td>\n",
       "      <td>0.0</td>\n",
       "      <td>0.000000</td>\n",
       "      <td>0.000000</td>\n",
       "      <td>0.000000</td>\n",
       "    </tr>\n",
       "    <tr>\n",
       "      <th>305</th>\n",
       "      <td>2020-12-13</td>\n",
       "      <td>16157760</td>\n",
       "      <td>291046</td>\n",
       "      <td>218794683</td>\n",
       "      <td>109298.0</td>\n",
       "      <td>210611.0</td>\n",
       "      <td>2430.86</td>\n",
       "      <td>1883910.0</td>\n",
       "      <td>0.116495</td>\n",
       "      <td>0.111795</td>\n",
       "      <td>...</td>\n",
       "      <td>0.0</td>\n",
       "      <td>0.000000</td>\n",
       "      <td>0.000000</td>\n",
       "      <td>0.000000</td>\n",
       "      <td>0.0</td>\n",
       "      <td>0.0</td>\n",
       "      <td>0.0</td>\n",
       "      <td>0.000000</td>\n",
       "      <td>0.000000</td>\n",
       "      <td>0.000000</td>\n",
       "    </tr>\n",
       "    <tr>\n",
       "      <th>306</th>\n",
       "      <td>2020-12-14</td>\n",
       "      <td>16350226</td>\n",
       "      <td>292404</td>\n",
       "      <td>220954143</td>\n",
       "      <td>110549.0</td>\n",
       "      <td>212258.0</td>\n",
       "      <td>2439.57</td>\n",
       "      <td>1952070.0</td>\n",
       "      <td>0.113452</td>\n",
       "      <td>0.108735</td>\n",
       "      <td>...</td>\n",
       "      <td>0.0</td>\n",
       "      <td>0.000000</td>\n",
       "      <td>0.000000</td>\n",
       "      <td>0.000000</td>\n",
       "      <td>0.0</td>\n",
       "      <td>0.0</td>\n",
       "      <td>0.0</td>\n",
       "      <td>0.000000</td>\n",
       "      <td>0.000000</td>\n",
       "      <td>0.000000</td>\n",
       "    </tr>\n",
       "    <tr>\n",
       "      <th>307</th>\n",
       "      <td>2020-12-15</td>\n",
       "      <td>16540009</td>\n",
       "      <td>295375</td>\n",
       "      <td>222735753</td>\n",
       "      <td>112814.0</td>\n",
       "      <td>208640.0</td>\n",
       "      <td>2477.86</td>\n",
       "      <td>1961830.0</td>\n",
       "      <td>0.110596</td>\n",
       "      <td>0.106349</td>\n",
       "      <td>...</td>\n",
       "      <td>0.0</td>\n",
       "      <td>0.000000</td>\n",
       "      <td>0.000000</td>\n",
       "      <td>0.000000</td>\n",
       "      <td>0.0</td>\n",
       "      <td>0.0</td>\n",
       "      <td>0.0</td>\n",
       "      <td>0.000000</td>\n",
       "      <td>0.000000</td>\n",
       "      <td>0.000000</td>\n",
       "    </tr>\n",
       "    <tr>\n",
       "      <th>308</th>\n",
       "      <td>2020-12-16</td>\n",
       "      <td>16771662</td>\n",
       "      <td>298823</td>\n",
       "      <td>224527721</td>\n",
       "      <td>113278.0</td>\n",
       "      <td>211135.0</td>\n",
       "      <td>2518.43</td>\n",
       "      <td>1962490.0</td>\n",
       "      <td>0.112079</td>\n",
       "      <td>0.107585</td>\n",
       "      <td>...</td>\n",
       "      <td>0.0</td>\n",
       "      <td>0.000000</td>\n",
       "      <td>0.000000</td>\n",
       "      <td>0.000000</td>\n",
       "      <td>0.0</td>\n",
       "      <td>0.0</td>\n",
       "      <td>0.0</td>\n",
       "      <td>0.000000</td>\n",
       "      <td>0.000000</td>\n",
       "      <td>0.000000</td>\n",
       "    </tr>\n",
       "    <tr>\n",
       "      <th>309</th>\n",
       "      <td>2020-12-17</td>\n",
       "      <td>17011818</td>\n",
       "      <td>302261</td>\n",
       "      <td>226401061</td>\n",
       "      <td>114459.0</td>\n",
       "      <td>214165.0</td>\n",
       "      <td>2564.57</td>\n",
       "      <td>1960590.0</td>\n",
       "      <td>0.113832</td>\n",
       "      <td>0.109235</td>\n",
       "      <td>...</td>\n",
       "      <td>0.0</td>\n",
       "      <td>0.000000</td>\n",
       "      <td>0.000000</td>\n",
       "      <td>0.000000</td>\n",
       "      <td>0.0</td>\n",
       "      <td>0.0</td>\n",
       "      <td>0.0</td>\n",
       "      <td>0.000000</td>\n",
       "      <td>0.000000</td>\n",
       "      <td>0.000000</td>\n",
       "    </tr>\n",
       "    <tr>\n",
       "      <th>310</th>\n",
       "      <td>2020-12-18</td>\n",
       "      <td>17251064</td>\n",
       "      <td>305127</td>\n",
       "      <td>228598746</td>\n",
       "      <td>113955.0</td>\n",
       "      <td>214797.0</td>\n",
       "      <td>2581.29</td>\n",
       "      <td>1991220.0</td>\n",
       "      <td>0.112398</td>\n",
       "      <td>0.107872</td>\n",
       "      <td>...</td>\n",
       "      <td>0.0</td>\n",
       "      <td>0.000000</td>\n",
       "      <td>0.000000</td>\n",
       "      <td>0.000000</td>\n",
       "      <td>0.0</td>\n",
       "      <td>0.0</td>\n",
       "      <td>0.0</td>\n",
       "      <td>0.000000</td>\n",
       "      <td>0.000000</td>\n",
       "      <td>0.000000</td>\n",
       "    </tr>\n",
       "    <tr>\n",
       "      <th>311</th>\n",
       "      <td>2020-12-19</td>\n",
       "      <td>17452905</td>\n",
       "      <td>307831</td>\n",
       "      <td>230323782</td>\n",
       "      <td>113929.0</td>\n",
       "      <td>211564.0</td>\n",
       "      <td>2611.29</td>\n",
       "      <td>1979080.0</td>\n",
       "      <td>0.111420</td>\n",
       "      <td>0.106900</td>\n",
       "      <td>...</td>\n",
       "      <td>0.0</td>\n",
       "      <td>0.000000</td>\n",
       "      <td>0.000000</td>\n",
       "      <td>0.000000</td>\n",
       "      <td>0.0</td>\n",
       "      <td>0.0</td>\n",
       "      <td>0.0</td>\n",
       "      <td>0.000000</td>\n",
       "      <td>0.000000</td>\n",
       "      <td>0.000000</td>\n",
       "    </tr>\n",
       "    <tr>\n",
       "      <th>312</th>\n",
       "      <td>2020-12-20</td>\n",
       "      <td>17647893</td>\n",
       "      <td>309449</td>\n",
       "      <td>232088348</td>\n",
       "      <td>113663.0</td>\n",
       "      <td>212876.0</td>\n",
       "      <td>2629.00</td>\n",
       "      <td>1978390.0</td>\n",
       "      <td>0.112093</td>\n",
       "      <td>0.107601</td>\n",
       "      <td>...</td>\n",
       "      <td>0.0</td>\n",
       "      <td>0.000000</td>\n",
       "      <td>0.000000</td>\n",
       "      <td>0.000000</td>\n",
       "      <td>0.0</td>\n",
       "      <td>0.0</td>\n",
       "      <td>0.0</td>\n",
       "      <td>0.000000</td>\n",
       "      <td>0.000000</td>\n",
       "      <td>0.000000</td>\n",
       "    </tr>\n",
       "  </tbody>\n",
       "</table>\n",
       "<p>20 rows × 29 columns</p>\n",
       "</div>"
      ],
      "text/plain": [
       "          date  total_cases  total_deaths  total_tests  current_hospitalized  \\\n",
       "293 2020-12-01     13641607        262203    196979678               98777.0   \n",
       "294 2020-12-02     13842777        265007    198535645              100322.0   \n",
       "295 2020-12-03     14056416        267832    200429201              100755.0   \n",
       "296 2020-12-04     14285608        270405    202329587              101276.0   \n",
       "297 2020-12-05     14502286        272885    204539112              101192.0   \n",
       "298 2020-12-06     14683482        274030    206139403              101501.0   \n",
       "299 2020-12-07     14864420        275327    207857754              102148.0   \n",
       "300 2020-12-08     15079532        278030    209530230              104623.0   \n",
       "301 2020-12-09     15293715        281194    211341116              106705.0   \n",
       "302 2020-12-10     15512666        284309    213231180              107276.0   \n",
       "303 2020-12-11     15747483        287058    215221435              108108.0   \n",
       "304 2020-12-12     15971959        289552    217032203              108461.0   \n",
       "305 2020-12-13     16157760        291046    218794683              109298.0   \n",
       "306 2020-12-14     16350226        292404    220954143              110549.0   \n",
       "307 2020-12-15     16540009        295375    222735753              112814.0   \n",
       "308 2020-12-16     16771662        298823    224527721              113278.0   \n",
       "309 2020-12-17     17011818        302261    226401061              114459.0   \n",
       "310 2020-12-18     17251064        305127    228598746              113955.0   \n",
       "311 2020-12-19     17452905        307831    230323782              113929.0   \n",
       "312 2020-12-20     17647893        309449    232088348              113663.0   \n",
       "\n",
       "     daily_positive_7day_ma  daily_deaths_7day_ma  daily_tests_7day_ma  \\\n",
       "293                161036.0               1524.86            1653170.0   \n",
       "294                163041.0               1599.71            1612700.0   \n",
       "295                175174.0               1805.14            1702250.0   \n",
       "296                179747.0               1973.86            1685900.0   \n",
       "297                189104.0               2149.43            1766300.0   \n",
       "298                195525.0               2195.43            1813820.0   \n",
       "299                200146.0               2232.86            1829150.0   \n",
       "300                205418.0               2261.00            1872620.0   \n",
       "301                207277.0               2312.43            1908280.0   \n",
       "302                208036.0               2353.86            1907600.0   \n",
       "303                208839.0               2379.00            1919680.0   \n",
       "304                209953.0               2381.00            1860630.0   \n",
       "305                210611.0               2430.86            1883910.0   \n",
       "306                212258.0               2439.57            1952070.0   \n",
       "307                208640.0               2477.86            1961830.0   \n",
       "308                211135.0               2518.43            1962490.0   \n",
       "309                214165.0               2564.57            1960590.0   \n",
       "310                214797.0               2581.29            1991220.0   \n",
       "311                211564.0               2611.29            1979080.0   \n",
       "312                212876.0               2629.00            1978390.0   \n",
       "\n",
       "     positivity_rate_orig_7day_ma  positivity_rate_7day_ma  ...  \\\n",
       "293                      0.101028                 0.097411  ...   \n",
       "294                      0.104805                 0.101099  ...   \n",
       "295                      0.106475                 0.102907  ...   \n",
       "296                      0.110515                 0.106618  ...   \n",
       "297                      0.111035                 0.107062  ...   \n",
       "298                      0.111844                 0.107797  ...   \n",
       "299                      0.113450                 0.109420  ...   \n",
       "300                      0.114571                 0.109695  ...   \n",
       "301                      0.113306                 0.108620  ...   \n",
       "302                      0.113752                 0.109056  ...   \n",
       "303                      0.113395                 0.108789  ...   \n",
       "304                      0.117639                 0.112840  ...   \n",
       "305                      0.116495                 0.111795  ...   \n",
       "306                      0.113452                 0.108735  ...   \n",
       "307                      0.110596                 0.106349  ...   \n",
       "308                      0.112079                 0.107585  ...   \n",
       "309                      0.113832                 0.109235  ...   \n",
       "310                      0.112398                 0.107872  ...   \n",
       "311                      0.111420                 0.106900  ...   \n",
       "312                      0.112093                 0.107601  ...   \n",
       "\n",
       "     current_infected_upper  perc_current_infected_mean  \\\n",
       "293              13340100.0                    0.026797   \n",
       "294              13531900.0                    0.027183   \n",
       "295              13703100.0                    0.027526   \n",
       "296              13849000.0                    0.027820   \n",
       "297              13969700.0                    0.028062   \n",
       "298              14062900.0                    0.028249   \n",
       "299                     0.0                    0.000000   \n",
       "300                     0.0                    0.000000   \n",
       "301                     0.0                    0.000000   \n",
       "302                     0.0                    0.000000   \n",
       "303                     0.0                    0.000000   \n",
       "304                     0.0                    0.000000   \n",
       "305                     0.0                    0.000000   \n",
       "306                     0.0                    0.000000   \n",
       "307                     0.0                    0.000000   \n",
       "308                     0.0                    0.000000   \n",
       "309                     0.0                    0.000000   \n",
       "310                     0.0                    0.000000   \n",
       "311                     0.0                    0.000000   \n",
       "312                     0.0                    0.000000   \n",
       "\n",
       "     perc_current_infected_lower  perc_current_infected_upper  \\\n",
       "293                     0.017865                     0.040196   \n",
       "294                     0.018122                     0.040774   \n",
       "295                     0.018351                     0.041290   \n",
       "296                     0.018547                     0.041730   \n",
       "297                     0.018708                     0.042093   \n",
       "298                     0.018833                     0.042374   \n",
       "299                     0.000000                     0.000000   \n",
       "300                     0.000000                     0.000000   \n",
       "301                     0.000000                     0.000000   \n",
       "302                     0.000000                     0.000000   \n",
       "303                     0.000000                     0.000000   \n",
       "304                     0.000000                     0.000000   \n",
       "305                     0.000000                     0.000000   \n",
       "306                     0.000000                     0.000000   \n",
       "307                     0.000000                     0.000000   \n",
       "308                     0.000000                     0.000000   \n",
       "309                     0.000000                     0.000000   \n",
       "310                     0.000000                     0.000000   \n",
       "311                     0.000000                     0.000000   \n",
       "312                     0.000000                     0.000000   \n",
       "\n",
       "     total_infected_mean  total_infected_lower  total_infected_upper  \\\n",
       "293           58675200.0            39116800.0            88012800.0   \n",
       "294           59307400.0            39538300.0            88961100.0   \n",
       "295           59938100.0            39958700.0            89907200.0   \n",
       "296           60567800.0            40378500.0            90851700.0   \n",
       "297           61199100.0            40799400.0            91798600.0   \n",
       "298           61831100.0            41220700.0            92746600.0   \n",
       "299                  0.0                   0.0                   0.0   \n",
       "300                  0.0                   0.0                   0.0   \n",
       "301                  0.0                   0.0                   0.0   \n",
       "302                  0.0                   0.0                   0.0   \n",
       "303                  0.0                   0.0                   0.0   \n",
       "304                  0.0                   0.0                   0.0   \n",
       "305                  0.0                   0.0                   0.0   \n",
       "306                  0.0                   0.0                   0.0   \n",
       "307                  0.0                   0.0                   0.0   \n",
       "308                  0.0                   0.0                   0.0   \n",
       "309                  0.0                   0.0                   0.0   \n",
       "310                  0.0                   0.0                   0.0   \n",
       "311                  0.0                   0.0                   0.0   \n",
       "312                  0.0                   0.0                   0.0   \n",
       "\n",
       "     perc_total_infected_mean  perc_total_infected_lower  \\\n",
       "293                  0.176799                   0.117866   \n",
       "294                  0.178704                   0.119136   \n",
       "295                  0.180604                   0.120403   \n",
       "296                  0.182501                   0.121668   \n",
       "297                  0.184404                   0.122936   \n",
       "298                  0.186308                   0.124205   \n",
       "299                  0.000000                   0.000000   \n",
       "300                  0.000000                   0.000000   \n",
       "301                  0.000000                   0.000000   \n",
       "302                  0.000000                   0.000000   \n",
       "303                  0.000000                   0.000000   \n",
       "304                  0.000000                   0.000000   \n",
       "305                  0.000000                   0.000000   \n",
       "306                  0.000000                   0.000000   \n",
       "307                  0.000000                   0.000000   \n",
       "308                  0.000000                   0.000000   \n",
       "309                  0.000000                   0.000000   \n",
       "310                  0.000000                   0.000000   \n",
       "311                  0.000000                   0.000000   \n",
       "312                  0.000000                   0.000000   \n",
       "\n",
       "     perc_total_infected_upper  \n",
       "293                   0.265198  \n",
       "294                   0.268056  \n",
       "295                   0.270906  \n",
       "296                   0.273752  \n",
       "297                   0.276605  \n",
       "298                   0.279462  \n",
       "299                   0.000000  \n",
       "300                   0.000000  \n",
       "301                   0.000000  \n",
       "302                   0.000000  \n",
       "303                   0.000000  \n",
       "304                   0.000000  \n",
       "305                   0.000000  \n",
       "306                   0.000000  \n",
       "307                   0.000000  \n",
       "308                   0.000000  \n",
       "309                   0.000000  \n",
       "310                   0.000000  \n",
       "311                   0.000000  \n",
       "312                   0.000000  \n",
       "\n",
       "[20 rows x 29 columns]"
      ]
     },
     "execution_count": 55,
     "metadata": {},
     "output_type": "execute_result"
    }
   ],
   "source": [
    "df_usa.tail(20)"
   ]
  },
  {
   "cell_type": "markdown",
   "metadata": {},
   "source": [
    "### Data Viz for USA"
   ]
  },
  {
   "cell_type": "code",
   "execution_count": 233,
   "metadata": {},
   "outputs": [],
   "source": [
    "import matplotlib.pyplot as plt\n",
    "import numpy as np\n",
    "import seaborn as sns"
   ]
  },
  {
   "cell_type": "code",
   "execution_count": 234,
   "metadata": {},
   "outputs": [],
   "source": [
    "%matplotlib inline"
   ]
  },
  {
   "cell_type": "code",
   "execution_count": 240,
   "metadata": {},
   "outputs": [],
   "source": [
    "# slicing the US data \n",
    "df_usa_viz = df_usa.iloc[20:-14,:]"
   ]
  },
  {
   "cell_type": "code",
   "execution_count": 241,
   "metadata": {},
   "outputs": [
    {
     "data": {
      "text/plain": [
       "<AxesSubplot:xlabel='rt_mean'>"
      ]
     },
     "execution_count": 241,
     "metadata": {},
     "output_type": "execute_result"
    },
    {
     "data": {
      "image/png": "[encoded data removed]",
      "text/plain": [
       "<Figure size 432x288 with 1 Axes>"
      ]
     },
     "metadata": {
      "needs_background": "light"
     },
     "output_type": "display_data"
    }
   ],
   "source": [
    "sns.distplot(df_usa_viz['rt_mean'], kde=False,bins=30)"
   ]
  },
  {
   "cell_type": "code",
   "execution_count": 243,
   "metadata": {},
   "outputs": [
    {
     "data": {
      "text/plain": [
       "<seaborn.axisgrid.JointGrid at 0x7f9c58cc6fa0>"
      ]
     },
     "execution_count": 243,
     "metadata": {},
     "output_type": "execute_result"
    },
    {
     "data": {
      "image/png": "[encoded data removed]",
      "text/plain": [
       "<Figure size 432x432 with 3 Axes>"
      ]
     },
     "metadata": {
      "needs_background": "light"
     },
     "output_type": "display_data"
    }
   ],
   "source": [
    "sns.jointplot(x='positivity_rate_7day_ma',y='rt_mean',data=df_usa_viz,kind='reg')"
   ]
  },
  {
   "cell_type": "code",
   "execution_count": null,
   "metadata": {},
   "outputs": [],
   "source": []
  },
  {
   "cell_type": "code",
   "execution_count": 77,
   "metadata": {},
   "outputs": [
    {
     "data": {
      "text/plain": [
       "[<matplotlib.lines.Line2D at 0x7f9c483e0ee0>]"
      ]
     },
     "execution_count": 77,
     "metadata": {},
     "output_type": "execute_result"
    },
    {
     "data": {
      "image/png": "[encoded data removed]",
      "text/plain": [
       "<Figure size 1200x800 with 1 Axes>"
      ]
     },
     "metadata": {
      "needs_background": "light"
     },
     "output_type": "display_data"
    }
   ],
   "source": [
    "fig = plt.figure(figsize=(12,8),dpi=100)\n",
    "axes = fig.add_axes([0, 0, 1, 1])\n",
    "axes.plot(df_usa['date'], df_usa['daily_positive_7day_ma'])"
   ]
  },
  {
   "cell_type": "markdown",
   "metadata": {},
   "source": [
    "### Playground"
   ]
  },
  {
   "cell_type": "code",
   "execution_count": 79,
   "metadata": {},
   "outputs": [],
   "source": [
    "ymax = max(df_usa['daily_positive_7day_ma'])"
   ]
  },
  {
   "cell_type": "code",
   "execution_count": 82,
   "metadata": {},
   "outputs": [
    {
     "ename": "TypeError",
     "evalue": "'RangeIndex' object is not callable",
     "output_type": "error",
     "traceback": [
      "\u001b[0;31m---------------------------------------------------------------------------\u001b[0m",
      "\u001b[0;31mTypeError\u001b[0m                                 Traceback (most recent call last)",
      "\u001b[0;32m<ipython-input-82-6d0a6d583283>\u001b[0m in \u001b[0;36m<module>\u001b[0;34m\u001b[0m\n\u001b[1;32m      1\u001b[0m \u001b[0mymax\u001b[0m \u001b[0;34m=\u001b[0m \u001b[0mmax\u001b[0m\u001b[0;34m(\u001b[0m\u001b[0mdf_usa\u001b[0m\u001b[0;34m[\u001b[0m\u001b[0;34m'daily_positive_7day_ma'\u001b[0m\u001b[0;34m]\u001b[0m\u001b[0;34m)\u001b[0m\u001b[0;34m\u001b[0m\u001b[0;34m\u001b[0m\u001b[0m\n\u001b[0;32m----> 2\u001b[0;31m \u001b[0mxpos\u001b[0m \u001b[0;34m=\u001b[0m \u001b[0mdf_usa\u001b[0m\u001b[0;34m[\u001b[0m\u001b[0;34m'daily_positive_7day_ma'\u001b[0m\u001b[0;34m]\u001b[0m\u001b[0;34m.\u001b[0m\u001b[0mindex\u001b[0m\u001b[0;34m(\u001b[0m\u001b[0mymax\u001b[0m\u001b[0;34m)\u001b[0m\u001b[0;34m\u001b[0m\u001b[0;34m\u001b[0m\u001b[0m\n\u001b[0m\u001b[1;32m      3\u001b[0m \u001b[0mxmax\u001b[0m \u001b[0;34m=\u001b[0m \u001b[0mx\u001b[0m\u001b[0;34m[\u001b[0m\u001b[0mxpos\u001b[0m\u001b[0;34m]\u001b[0m\u001b[0;34m\u001b[0m\u001b[0;34m\u001b[0m\u001b[0m\n",
      "\u001b[0;31mTypeError\u001b[0m: 'RangeIndex' object is not callable"
     ]
    }
   ],
   "source": [
    "ymax = max(df_usa['daily_positive_7day_ma'])\n",
    "xpos = df_usa['daily_positive_7day_ma'].index(ymax)\n",
    "xmax = x[xpos]"
   ]
  },
  {
   "cell_type": "code",
   "execution_count": 90,
   "metadata": {},
   "outputs": [
    {
     "ename": "SyntaxError",
     "evalue": "invalid syntax (<ipython-input-90-aa1bfdf929d4>, line 2)",
     "output_type": "error",
     "traceback": [
      "\u001b[0;36m  File \u001b[0;32m\"<ipython-input-90-aa1bfdf929d4>\"\u001b[0;36m, line \u001b[0;32m2\u001b[0m\n\u001b[0;31m    y1 = df_usa.loc[df_usa['daily_positive_7day_ma'].values()\u001b[0m\n\u001b[0m    ^\u001b[0m\n\u001b[0;31mSyntaxError\u001b[0m\u001b[0;31m:\u001b[0m invalid syntax\n"
     ]
    }
   ],
   "source": [
    "x1 = df_usa.loc[df_usa['date'].values()\n",
    "y1 = df_usa.loc[df_usa['daily_positive_7day_ma'].values()"
   ]
  },
  {
   "cell_type": "code",
   "execution_count": 92,
   "metadata": {},
   "outputs": [],
   "source": [
    "x = df_usa['date'].to_numpy() \n",
    "y = df_usa['daily_positive_7day_ma'].to_numpy()"
   ]
  },
  {
   "cell_type": "code",
   "execution_count": 99,
   "metadata": {
    "scrolled": true
   },
   "outputs": [
    {
     "data": {
      "image/png": "[encoded data removed]",
      "text/plain": [
       "<Figure size 432x288 with 1 Axes>"
      ]
     },
     "metadata": {
      "needs_background": "light"
     },
     "output_type": "display_data"
    },
    {
     "data": {
      "text/plain": [
       "<Figure size 1200x800 with 0 Axes>"
      ]
     },
     "metadata": {},
     "output_type": "display_data"
    }
   ],
   "source": [
    "fig, ax = plt.subplots()\n",
    "ax.plot(x,y)\n",
    "fig = plt.figure(figsize=(12,8),dpi=100)"
   ]
  },
  {
   "cell_type": "code",
   "execution_count": 100,
   "metadata": {},
   "outputs": [
    {
     "ename": "ValueError",
     "evalue": "Image size of 21660276x37516908 pixels is too large. It must be less than 2^16 in each direction.",
     "output_type": "error",
     "traceback": [
      "\u001b[0;31m---------------------------------------------------------------------------\u001b[0m",
      "\u001b[0;31mValueError\u001b[0m                                Traceback (most recent call last)",
      "\u001b[0;32m~/anaconda3/envs/working/lib/python3.8/site-packages/IPython/core/formatters.py\u001b[0m in \u001b[0;36m__call__\u001b[0;34m(self, obj)\u001b[0m\n\u001b[1;32m    339\u001b[0m                 \u001b[0;32mpass\u001b[0m\u001b[0;34m\u001b[0m\u001b[0;34m\u001b[0m\u001b[0m\n\u001b[1;32m    340\u001b[0m             \u001b[0;32melse\u001b[0m\u001b[0;34m:\u001b[0m\u001b[0;34m\u001b[0m\u001b[0;34m\u001b[0m\u001b[0m\n\u001b[0;32m--> 341\u001b[0;31m                 \u001b[0;32mreturn\u001b[0m \u001b[0mprinter\u001b[0m\u001b[0;34m(\u001b[0m\u001b[0mobj\u001b[0m\u001b[0;34m)\u001b[0m\u001b[0;34m\u001b[0m\u001b[0;34m\u001b[0m\u001b[0m\n\u001b[0m\u001b[1;32m    342\u001b[0m             \u001b[0;31m# Finally look for special method names\u001b[0m\u001b[0;34m\u001b[0m\u001b[0;34m\u001b[0m\u001b[0;34m\u001b[0m\u001b[0m\n\u001b[1;32m    343\u001b[0m             \u001b[0mmethod\u001b[0m \u001b[0;34m=\u001b[0m \u001b[0mget_real_method\u001b[0m\u001b[0;34m(\u001b[0m\u001b[0mobj\u001b[0m\u001b[0;34m,\u001b[0m \u001b[0mself\u001b[0m\u001b[0;34m.\u001b[0m\u001b[0mprint_method\u001b[0m\u001b[0;34m)\u001b[0m\u001b[0;34m\u001b[0m\u001b[0;34m\u001b[0m\u001b[0m\n",
      "\u001b[0;32m~/anaconda3/envs/working/lib/python3.8/site-packages/IPython/core/pylabtools.py\u001b[0m in \u001b[0;36m<lambda>\u001b[0;34m(fig)\u001b[0m\n\u001b[1;32m    246\u001b[0m \u001b[0;34m\u001b[0m\u001b[0m\n\u001b[1;32m    247\u001b[0m     \u001b[0;32mif\u001b[0m \u001b[0;34m'png'\u001b[0m \u001b[0;32min\u001b[0m \u001b[0mformats\u001b[0m\u001b[0;34m:\u001b[0m\u001b[0;34m\u001b[0m\u001b[0;34m\u001b[0m\u001b[0m\n\u001b[0;32m--> 248\u001b[0;31m         \u001b[0mpng_formatter\u001b[0m\u001b[0;34m.\u001b[0m\u001b[0mfor_type\u001b[0m\u001b[0;34m(\u001b[0m\u001b[0mFigure\u001b[0m\u001b[0;34m,\u001b[0m \u001b[0;32mlambda\u001b[0m \u001b[0mfig\u001b[0m\u001b[0;34m:\u001b[0m \u001b[0mprint_figure\u001b[0m\u001b[0;34m(\u001b[0m\u001b[0mfig\u001b[0m\u001b[0;34m,\u001b[0m \u001b[0;34m'png'\u001b[0m\u001b[0;34m,\u001b[0m \u001b[0;34m**\u001b[0m\u001b[0mkwargs\u001b[0m\u001b[0;34m)\u001b[0m\u001b[0;34m)\u001b[0m\u001b[0;34m\u001b[0m\u001b[0;34m\u001b[0m\u001b[0m\n\u001b[0m\u001b[1;32m    249\u001b[0m     \u001b[0;32mif\u001b[0m \u001b[0;34m'retina'\u001b[0m \u001b[0;32min\u001b[0m \u001b[0mformats\u001b[0m \u001b[0;32mor\u001b[0m \u001b[0;34m'png2x'\u001b[0m \u001b[0;32min\u001b[0m \u001b[0mformats\u001b[0m\u001b[0;34m:\u001b[0m\u001b[0;34m\u001b[0m\u001b[0;34m\u001b[0m\u001b[0m\n\u001b[1;32m    250\u001b[0m         \u001b[0mpng_formatter\u001b[0m\u001b[0;34m.\u001b[0m\u001b[0mfor_type\u001b[0m\u001b[0;34m(\u001b[0m\u001b[0mFigure\u001b[0m\u001b[0;34m,\u001b[0m \u001b[0;32mlambda\u001b[0m \u001b[0mfig\u001b[0m\u001b[0;34m:\u001b[0m \u001b[0mretina_figure\u001b[0m\u001b[0;34m(\u001b[0m\u001b[0mfig\u001b[0m\u001b[0;34m,\u001b[0m \u001b[0;34m**\u001b[0m\u001b[0mkwargs\u001b[0m\u001b[0;34m)\u001b[0m\u001b[0;34m)\u001b[0m\u001b[0;34m\u001b[0m\u001b[0;34m\u001b[0m\u001b[0m\n",
      "\u001b[0;32m~/anaconda3/envs/working/lib/python3.8/site-packages/IPython/core/pylabtools.py\u001b[0m in \u001b[0;36mprint_figure\u001b[0;34m(fig, fmt, bbox_inches, **kwargs)\u001b[0m\n\u001b[1;32m    130\u001b[0m         \u001b[0mFigureCanvasBase\u001b[0m\u001b[0;34m(\u001b[0m\u001b[0mfig\u001b[0m\u001b[0;34m)\u001b[0m\u001b[0;34m\u001b[0m\u001b[0;34m\u001b[0m\u001b[0m\n\u001b[1;32m    131\u001b[0m \u001b[0;34m\u001b[0m\u001b[0m\n\u001b[0;32m--> 132\u001b[0;31m     \u001b[0mfig\u001b[0m\u001b[0;34m.\u001b[0m\u001b[0mcanvas\u001b[0m\u001b[0;34m.\u001b[0m\u001b[0mprint_figure\u001b[0m\u001b[0;34m(\u001b[0m\u001b[0mbytes_io\u001b[0m\u001b[0;34m,\u001b[0m \u001b[0;34m**\u001b[0m\u001b[0mkw\u001b[0m\u001b[0;34m)\u001b[0m\u001b[0;34m\u001b[0m\u001b[0;34m\u001b[0m\u001b[0m\n\u001b[0m\u001b[1;32m    133\u001b[0m     \u001b[0mdata\u001b[0m \u001b[0;34m=\u001b[0m \u001b[0mbytes_io\u001b[0m\u001b[0;34m.\u001b[0m\u001b[0mgetvalue\u001b[0m\u001b[0;34m(\u001b[0m\u001b[0;34m)\u001b[0m\u001b[0;34m\u001b[0m\u001b[0;34m\u001b[0m\u001b[0m\n\u001b[1;32m    134\u001b[0m     \u001b[0;32mif\u001b[0m \u001b[0mfmt\u001b[0m \u001b[0;34m==\u001b[0m \u001b[0;34m'svg'\u001b[0m\u001b[0;34m:\u001b[0m\u001b[0;34m\u001b[0m\u001b[0;34m\u001b[0m\u001b[0m\n",
      "\u001b[0;32m~/anaconda3/envs/working/lib/python3.8/site-packages/matplotlib/backend_bases.py\u001b[0m in \u001b[0;36mprint_figure\u001b[0;34m(self, filename, dpi, facecolor, edgecolor, orientation, format, bbox_inches, pad_inches, bbox_extra_artists, backend, **kwargs)\u001b[0m\n\u001b[1;32m   2208\u001b[0m \u001b[0;34m\u001b[0m\u001b[0m\n\u001b[1;32m   2209\u001b[0m             \u001b[0;32mtry\u001b[0m\u001b[0;34m:\u001b[0m\u001b[0;34m\u001b[0m\u001b[0;34m\u001b[0m\u001b[0m\n\u001b[0;32m-> 2210\u001b[0;31m                 result = print_method(\n\u001b[0m\u001b[1;32m   2211\u001b[0m                     \u001b[0mfilename\u001b[0m\u001b[0;34m,\u001b[0m\u001b[0;34m\u001b[0m\u001b[0;34m\u001b[0m\u001b[0m\n\u001b[1;32m   2212\u001b[0m                     \u001b[0mdpi\u001b[0m\u001b[0;34m=\u001b[0m\u001b[0mdpi\u001b[0m\u001b[0;34m,\u001b[0m\u001b[0;34m\u001b[0m\u001b[0;34m\u001b[0m\u001b[0m\n",
      "\u001b[0;32m~/anaconda3/envs/working/lib/python3.8/site-packages/matplotlib/backend_bases.py\u001b[0m in \u001b[0;36mwrapper\u001b[0;34m(*args, **kwargs)\u001b[0m\n\u001b[1;32m   1637\u001b[0m             \u001b[0mkwargs\u001b[0m\u001b[0;34m.\u001b[0m\u001b[0mpop\u001b[0m\u001b[0;34m(\u001b[0m\u001b[0marg\u001b[0m\u001b[0;34m)\u001b[0m\u001b[0;34m\u001b[0m\u001b[0;34m\u001b[0m\u001b[0m\n\u001b[1;32m   1638\u001b[0m \u001b[0;34m\u001b[0m\u001b[0m\n\u001b[0;32m-> 1639\u001b[0;31m         \u001b[0;32mreturn\u001b[0m \u001b[0mfunc\u001b[0m\u001b[0;34m(\u001b[0m\u001b[0;34m*\u001b[0m\u001b[0margs\u001b[0m\u001b[0;34m,\u001b[0m \u001b[0;34m**\u001b[0m\u001b[0mkwargs\u001b[0m\u001b[0;34m)\u001b[0m\u001b[0;34m\u001b[0m\u001b[0;34m\u001b[0m\u001b[0m\n\u001b[0m\u001b[1;32m   1640\u001b[0m \u001b[0;34m\u001b[0m\u001b[0m\n\u001b[1;32m   1641\u001b[0m     \u001b[0;32mreturn\u001b[0m \u001b[0mwrapper\u001b[0m\u001b[0;34m\u001b[0m\u001b[0;34m\u001b[0m\u001b[0m\n",
      "\u001b[0;32m~/anaconda3/envs/working/lib/python3.8/site-packages/matplotlib/backends/backend_agg.py\u001b[0m in \u001b[0;36mprint_png\u001b[0;34m(self, filename_or_obj, metadata, pil_kwargs, *args)\u001b[0m\n\u001b[1;32m    507\u001b[0m             \u001b[0;34m*\u001b[0m\u001b[0mmetadata\u001b[0m\u001b[0;34m*\u001b[0m\u001b[0;34m,\u001b[0m \u001b[0mincluding\u001b[0m \u001b[0mthe\u001b[0m \u001b[0mdefault\u001b[0m \u001b[0;34m'Software'\u001b[0m \u001b[0mkey\u001b[0m\u001b[0;34m.\u001b[0m\u001b[0;34m\u001b[0m\u001b[0;34m\u001b[0m\u001b[0m\n\u001b[1;32m    508\u001b[0m         \"\"\"\n\u001b[0;32m--> 509\u001b[0;31m         \u001b[0mFigureCanvasAgg\u001b[0m\u001b[0;34m.\u001b[0m\u001b[0mdraw\u001b[0m\u001b[0;34m(\u001b[0m\u001b[0mself\u001b[0m\u001b[0;34m)\u001b[0m\u001b[0;34m\u001b[0m\u001b[0;34m\u001b[0m\u001b[0m\n\u001b[0m\u001b[1;32m    510\u001b[0m         mpl.image.imsave(\n\u001b[1;32m    511\u001b[0m             \u001b[0mfilename_or_obj\u001b[0m\u001b[0;34m,\u001b[0m \u001b[0mself\u001b[0m\u001b[0;34m.\u001b[0m\u001b[0mbuffer_rgba\u001b[0m\u001b[0;34m(\u001b[0m\u001b[0;34m)\u001b[0m\u001b[0;34m,\u001b[0m \u001b[0mformat\u001b[0m\u001b[0;34m=\u001b[0m\u001b[0;34m\"png\"\u001b[0m\u001b[0;34m,\u001b[0m \u001b[0morigin\u001b[0m\u001b[0;34m=\u001b[0m\u001b[0;34m\"upper\"\u001b[0m\u001b[0;34m,\u001b[0m\u001b[0;34m\u001b[0m\u001b[0;34m\u001b[0m\u001b[0m\n",
      "\u001b[0;32m~/anaconda3/envs/working/lib/python3.8/site-packages/matplotlib/backends/backend_agg.py\u001b[0m in \u001b[0;36mdraw\u001b[0;34m(self)\u001b[0m\n\u001b[1;32m    400\u001b[0m     \u001b[0;32mdef\u001b[0m \u001b[0mdraw\u001b[0m\u001b[0;34m(\u001b[0m\u001b[0mself\u001b[0m\u001b[0;34m)\u001b[0m\u001b[0;34m:\u001b[0m\u001b[0;34m\u001b[0m\u001b[0;34m\u001b[0m\u001b[0m\n\u001b[1;32m    401\u001b[0m         \u001b[0;31m# docstring inherited\u001b[0m\u001b[0;34m\u001b[0m\u001b[0;34m\u001b[0m\u001b[0;34m\u001b[0m\u001b[0m\n\u001b[0;32m--> 402\u001b[0;31m         \u001b[0mself\u001b[0m\u001b[0;34m.\u001b[0m\u001b[0mrenderer\u001b[0m \u001b[0;34m=\u001b[0m \u001b[0mself\u001b[0m\u001b[0;34m.\u001b[0m\u001b[0mget_renderer\u001b[0m\u001b[0;34m(\u001b[0m\u001b[0mcleared\u001b[0m\u001b[0;34m=\u001b[0m\u001b[0;32mTrue\u001b[0m\u001b[0;34m)\u001b[0m\u001b[0;34m\u001b[0m\u001b[0;34m\u001b[0m\u001b[0m\n\u001b[0m\u001b[1;32m    403\u001b[0m         \u001b[0;31m# Acquire a lock on the shared font cache.\u001b[0m\u001b[0;34m\u001b[0m\u001b[0;34m\u001b[0m\u001b[0;34m\u001b[0m\u001b[0m\n\u001b[1;32m    404\u001b[0m         \u001b[0;32mwith\u001b[0m \u001b[0mRendererAgg\u001b[0m\u001b[0;34m.\u001b[0m\u001b[0mlock\u001b[0m\u001b[0;34m,\u001b[0m\u001b[0;31m \u001b[0m\u001b[0;31m\\\u001b[0m\u001b[0;34m\u001b[0m\u001b[0;34m\u001b[0m\u001b[0m\n",
      "\u001b[0;32m~/anaconda3/envs/working/lib/python3.8/site-packages/matplotlib/backends/backend_agg.py\u001b[0m in \u001b[0;36mget_renderer\u001b[0;34m(self, cleared)\u001b[0m\n\u001b[1;32m    416\u001b[0m                           and getattr(self, \"_lastKey\", None) == key)\n\u001b[1;32m    417\u001b[0m         \u001b[0;32mif\u001b[0m \u001b[0;32mnot\u001b[0m \u001b[0mreuse_renderer\u001b[0m\u001b[0;34m:\u001b[0m\u001b[0;34m\u001b[0m\u001b[0;34m\u001b[0m\u001b[0m\n\u001b[0;32m--> 418\u001b[0;31m             \u001b[0mself\u001b[0m\u001b[0;34m.\u001b[0m\u001b[0mrenderer\u001b[0m \u001b[0;34m=\u001b[0m \u001b[0mRendererAgg\u001b[0m\u001b[0;34m(\u001b[0m\u001b[0mw\u001b[0m\u001b[0;34m,\u001b[0m \u001b[0mh\u001b[0m\u001b[0;34m,\u001b[0m \u001b[0mself\u001b[0m\u001b[0;34m.\u001b[0m\u001b[0mfigure\u001b[0m\u001b[0;34m.\u001b[0m\u001b[0mdpi\u001b[0m\u001b[0;34m)\u001b[0m\u001b[0;34m\u001b[0m\u001b[0;34m\u001b[0m\u001b[0m\n\u001b[0m\u001b[1;32m    419\u001b[0m             \u001b[0mself\u001b[0m\u001b[0;34m.\u001b[0m\u001b[0m_lastKey\u001b[0m \u001b[0;34m=\u001b[0m \u001b[0mkey\u001b[0m\u001b[0;34m\u001b[0m\u001b[0;34m\u001b[0m\u001b[0m\n\u001b[1;32m    420\u001b[0m         \u001b[0;32melif\u001b[0m \u001b[0mcleared\u001b[0m\u001b[0;34m:\u001b[0m\u001b[0;34m\u001b[0m\u001b[0;34m\u001b[0m\u001b[0m\n",
      "\u001b[0;32m~/anaconda3/envs/working/lib/python3.8/site-packages/matplotlib/backends/backend_agg.py\u001b[0m in \u001b[0;36m__init__\u001b[0;34m(self, width, height, dpi)\u001b[0m\n\u001b[1;32m     94\u001b[0m         \u001b[0mself\u001b[0m\u001b[0;34m.\u001b[0m\u001b[0mwidth\u001b[0m \u001b[0;34m=\u001b[0m \u001b[0mwidth\u001b[0m\u001b[0;34m\u001b[0m\u001b[0;34m\u001b[0m\u001b[0m\n\u001b[1;32m     95\u001b[0m         \u001b[0mself\u001b[0m\u001b[0;34m.\u001b[0m\u001b[0mheight\u001b[0m \u001b[0;34m=\u001b[0m \u001b[0mheight\u001b[0m\u001b[0;34m\u001b[0m\u001b[0;34m\u001b[0m\u001b[0m\n\u001b[0;32m---> 96\u001b[0;31m         \u001b[0mself\u001b[0m\u001b[0;34m.\u001b[0m\u001b[0m_renderer\u001b[0m \u001b[0;34m=\u001b[0m \u001b[0m_RendererAgg\u001b[0m\u001b[0;34m(\u001b[0m\u001b[0mint\u001b[0m\u001b[0;34m(\u001b[0m\u001b[0mwidth\u001b[0m\u001b[0;34m)\u001b[0m\u001b[0;34m,\u001b[0m \u001b[0mint\u001b[0m\u001b[0;34m(\u001b[0m\u001b[0mheight\u001b[0m\u001b[0;34m)\u001b[0m\u001b[0;34m,\u001b[0m \u001b[0mdpi\u001b[0m\u001b[0;34m)\u001b[0m\u001b[0;34m\u001b[0m\u001b[0;34m\u001b[0m\u001b[0m\n\u001b[0m\u001b[1;32m     97\u001b[0m         \u001b[0mself\u001b[0m\u001b[0;34m.\u001b[0m\u001b[0m_filter_renderers\u001b[0m \u001b[0;34m=\u001b[0m \u001b[0;34m[\u001b[0m\u001b[0;34m]\u001b[0m\u001b[0;34m\u001b[0m\u001b[0;34m\u001b[0m\u001b[0m\n\u001b[1;32m     98\u001b[0m \u001b[0;34m\u001b[0m\u001b[0m\n",
      "\u001b[0;31mValueError\u001b[0m: Image size of 21660276x37516908 pixels is too large. It must be less than 2^16 in each direction."
     ]
    },
    {
     "data": {
      "text/plain": [
       "<Figure size 432x288 with 1 Axes>"
      ]
     },
     "metadata": {
      "needs_background": "light"
     },
     "output_type": "display_data"
    }
   ],
   "source": [
    "def annot_max(x,y, ax=None):\n",
    "    xmax = x[np.argmax(y)]\n",
    "    ymax = y.max()\n",
    "    text= \"x={:}, y={:}\".format(xmax, ymax)\n",
    "    if not ax:\n",
    "        ax=plt.gca()\n",
    "    bbox_props = dict(boxstyle=\"square,pad=0.3\", fc=\"w\", ec=\"k\", lw=0.72)\n",
    "    arrowprops=dict(arrowstyle=\"->\",connectionstyle=\"angle,angleA=0,angleB=60\")\n",
    "    kw = dict(xycoords='data',textcoords=\"axes fraction\",\n",
    "              arrowprops=arrowprops, bbox=bbox_props, ha=\"right\", va=\"top\")\n",
    "    ax.annotate(text, xy=(xmax, ymax), xytext=(0.94,0.96), **kw)\n",
    "\n",
    "annot_max(x,y)\n"
   ]
  },
  {
   "cell_type": "markdown",
   "metadata": {},
   "source": [
    "### Clustering"
   ]
  },
  {
   "cell_type": "code",
   "execution_count": 126,
   "metadata": {},
   "outputs": [
    {
     "data": {
      "text/html": [
       "<div>\n",
       "<style scoped>\n",
       "    .dataframe tbody tr th:only-of-type {\n",
       "        vertical-align: middle;\n",
       "    }\n",
       "\n",
       "    .dataframe tbody tr th {\n",
       "        vertical-align: top;\n",
       "    }\n",
       "\n",
       "    .dataframe thead th {\n",
       "        text-align: right;\n",
       "    }\n",
       "</style>\n",
       "<table border=\"1\" class=\"dataframe\">\n",
       "  <thead>\n",
       "    <tr style=\"text-align: right;\">\n",
       "      <th></th>\n",
       "      <th>date</th>\n",
       "      <th>state</th>\n",
       "      <th>total_cases</th>\n",
       "      <th>total_deaths</th>\n",
       "      <th>total_tests</th>\n",
       "      <th>daily_positive_7day_ma</th>\n",
       "      <th>daily_deaths_7day_ma</th>\n",
       "      <th>daily_tests_7day_ma</th>\n",
       "      <th>positivity_rate_orig_7day_ma</th>\n",
       "      <th>positivity_rate_7day_ma</th>\n",
       "      <th>...</th>\n",
       "      <th>current_infected_upper</th>\n",
       "      <th>perc_current_infected_mean</th>\n",
       "      <th>perc_current_infected_lower</th>\n",
       "      <th>perc_current_infected_upper</th>\n",
       "      <th>total_infected_mean</th>\n",
       "      <th>total_infected_lower</th>\n",
       "      <th>total_infected_upper</th>\n",
       "      <th>perc_total_infected_mean</th>\n",
       "      <th>perc_total_infected_lower</th>\n",
       "      <th>perc_total_infected_upper</th>\n",
       "    </tr>\n",
       "  </thead>\n",
       "  <tbody>\n",
       "    <tr>\n",
       "      <th>0</th>\n",
       "      <td>2020-02-29</td>\n",
       "      <td>AK</td>\n",
       "      <td>0</td>\n",
       "      <td>0</td>\n",
       "      <td>0</td>\n",
       "      <td>0.0</td>\n",
       "      <td>0.0</td>\n",
       "      <td>0.0</td>\n",
       "      <td>0.0</td>\n",
       "      <td>0.0</td>\n",
       "      <td>...</td>\n",
       "      <td>8.35714</td>\n",
       "      <td>0.000008</td>\n",
       "      <td>0.000005</td>\n",
       "      <td>0.000011</td>\n",
       "      <td>5.57143</td>\n",
       "      <td>3.71429</td>\n",
       "      <td>8.35714</td>\n",
       "      <td>0.000008</td>\n",
       "      <td>0.000005</td>\n",
       "      <td>0.000011</td>\n",
       "    </tr>\n",
       "    <tr>\n",
       "      <th>1</th>\n",
       "      <td>2020-03-01</td>\n",
       "      <td>AK</td>\n",
       "      <td>0</td>\n",
       "      <td>0</td>\n",
       "      <td>0</td>\n",
       "      <td>0.0</td>\n",
       "      <td>0.0</td>\n",
       "      <td>0.0</td>\n",
       "      <td>0.0</td>\n",
       "      <td>0.0</td>\n",
       "      <td>...</td>\n",
       "      <td>23.25000</td>\n",
       "      <td>0.000021</td>\n",
       "      <td>0.000014</td>\n",
       "      <td>0.000032</td>\n",
       "      <td>15.50000</td>\n",
       "      <td>10.33330</td>\n",
       "      <td>23.25000</td>\n",
       "      <td>0.000021</td>\n",
       "      <td>0.000014</td>\n",
       "      <td>0.000032</td>\n",
       "    </tr>\n",
       "    <tr>\n",
       "      <th>2</th>\n",
       "      <td>2020-03-02</td>\n",
       "      <td>AK</td>\n",
       "      <td>0</td>\n",
       "      <td>0</td>\n",
       "      <td>0</td>\n",
       "      <td>0.0</td>\n",
       "      <td>0.0</td>\n",
       "      <td>0.0</td>\n",
       "      <td>0.0</td>\n",
       "      <td>0.0</td>\n",
       "      <td>...</td>\n",
       "      <td>42.60710</td>\n",
       "      <td>0.000039</td>\n",
       "      <td>0.000026</td>\n",
       "      <td>0.000058</td>\n",
       "      <td>28.40480</td>\n",
       "      <td>18.93650</td>\n",
       "      <td>42.60710</td>\n",
       "      <td>0.000039</td>\n",
       "      <td>0.000026</td>\n",
       "      <td>0.000058</td>\n",
       "    </tr>\n",
       "    <tr>\n",
       "      <th>3</th>\n",
       "      <td>2020-03-03</td>\n",
       "      <td>AK</td>\n",
       "      <td>0</td>\n",
       "      <td>0</td>\n",
       "      <td>0</td>\n",
       "      <td>0.0</td>\n",
       "      <td>0.0</td>\n",
       "      <td>0.0</td>\n",
       "      <td>0.0</td>\n",
       "      <td>0.0</td>\n",
       "      <td>...</td>\n",
       "      <td>65.75000</td>\n",
       "      <td>0.000060</td>\n",
       "      <td>0.000040</td>\n",
       "      <td>0.000090</td>\n",
       "      <td>43.83330</td>\n",
       "      <td>29.22220</td>\n",
       "      <td>65.75000</td>\n",
       "      <td>0.000060</td>\n",
       "      <td>0.000040</td>\n",
       "      <td>0.000090</td>\n",
       "    </tr>\n",
       "    <tr>\n",
       "      <th>4</th>\n",
       "      <td>2020-03-04</td>\n",
       "      <td>AK</td>\n",
       "      <td>0</td>\n",
       "      <td>0</td>\n",
       "      <td>0</td>\n",
       "      <td>0.0</td>\n",
       "      <td>0.0</td>\n",
       "      <td>0.0</td>\n",
       "      <td>0.0</td>\n",
       "      <td>0.0</td>\n",
       "      <td>...</td>\n",
       "      <td>91.33570</td>\n",
       "      <td>0.000083</td>\n",
       "      <td>0.000055</td>\n",
       "      <td>0.000125</td>\n",
       "      <td>60.89050</td>\n",
       "      <td>40.59370</td>\n",
       "      <td>91.33570</td>\n",
       "      <td>0.000083</td>\n",
       "      <td>0.000055</td>\n",
       "      <td>0.000125</td>\n",
       "    </tr>\n",
       "  </tbody>\n",
       "</table>\n",
       "<p>5 rows × 29 columns</p>\n",
       "</div>"
      ],
      "text/plain": [
       "        date state  total_cases  total_deaths  total_tests  \\\n",
       "0 2020-02-29    AK            0             0            0   \n",
       "1 2020-03-01    AK            0             0            0   \n",
       "2 2020-03-02    AK            0             0            0   \n",
       "3 2020-03-03    AK            0             0            0   \n",
       "4 2020-03-04    AK            0             0            0   \n",
       "\n",
       "   daily_positive_7day_ma  daily_deaths_7day_ma  daily_tests_7day_ma  \\\n",
       "0                     0.0                   0.0                  0.0   \n",
       "1                     0.0                   0.0                  0.0   \n",
       "2                     0.0                   0.0                  0.0   \n",
       "3                     0.0                   0.0                  0.0   \n",
       "4                     0.0                   0.0                  0.0   \n",
       "\n",
       "   positivity_rate_orig_7day_ma  positivity_rate_7day_ma  ...  \\\n",
       "0                           0.0                      0.0  ...   \n",
       "1                           0.0                      0.0  ...   \n",
       "2                           0.0                      0.0  ...   \n",
       "3                           0.0                      0.0  ...   \n",
       "4                           0.0                      0.0  ...   \n",
       "\n",
       "   current_infected_upper  perc_current_infected_mean  \\\n",
       "0                 8.35714                    0.000008   \n",
       "1                23.25000                    0.000021   \n",
       "2                42.60710                    0.000039   \n",
       "3                65.75000                    0.000060   \n",
       "4                91.33570                    0.000083   \n",
       "\n",
       "   perc_current_infected_lower  perc_current_infected_upper  \\\n",
       "0                     0.000005                     0.000011   \n",
       "1                     0.000014                     0.000032   \n",
       "2                     0.000026                     0.000058   \n",
       "3                     0.000040                     0.000090   \n",
       "4                     0.000055                     0.000125   \n",
       "\n",
       "   total_infected_mean  total_infected_lower  total_infected_upper  \\\n",
       "0              5.57143               3.71429               8.35714   \n",
       "1             15.50000              10.33330              23.25000   \n",
       "2             28.40480              18.93650              42.60710   \n",
       "3             43.83330              29.22220              65.75000   \n",
       "4             60.89050              40.59370              91.33570   \n",
       "\n",
       "   perc_total_infected_mean  perc_total_infected_lower  \\\n",
       "0                  0.000008                   0.000005   \n",
       "1                  0.000021                   0.000014   \n",
       "2                  0.000039                   0.000026   \n",
       "3                  0.000060                   0.000040   \n",
       "4                  0.000083                   0.000055   \n",
       "\n",
       "   perc_total_infected_upper  \n",
       "0                   0.000011  \n",
       "1                   0.000032  \n",
       "2                   0.000058  \n",
       "3                   0.000090  \n",
       "4                   0.000125  \n",
       "\n",
       "[5 rows x 29 columns]"
      ]
     },
     "execution_count": 126,
     "metadata": {},
     "output_type": "execute_result"
    }
   ],
   "source": [
    "df_states.head()"
   ]
  },
  {
   "cell_type": "code",
   "execution_count": 128,
   "metadata": {},
   "outputs": [],
   "source": [
    "import matplotlib.pyplot as plt\n",
    "from kneed import KneeLocator\n",
    "from sklearn.datasets import make_blobs\n",
    "from sklearn.cluster import KMeans\n",
    "from sklearn.metrics import silhouette_score\n",
    "from sklearn.preprocessing import StandardScaler"
   ]
  },
  {
   "cell_type": "code",
   "execution_count": 130,
   "metadata": {},
   "outputs": [],
   "source": [
    "mask = (df['date'] > '2020-10-14') & (df['date'] <= '2020-11-14')"
   ]
  },
  {
   "cell_type": "code",
   "execution_count": 132,
   "metadata": {},
   "outputs": [],
   "source": [
    "df_cluster_data = df.loc[mask]"
   ]
  },
  {
   "cell_type": "code",
   "execution_count": 133,
   "metadata": {},
   "outputs": [],
   "source": [
    "scaler = StandardScaler()"
   ]
  },
  {
   "cell_type": "code",
   "execution_count": 136,
   "metadata": {},
   "outputs": [],
   "source": [
    "df_cluster_data = df_cluster_data.drop('date',axis=1)"
   ]
  },
  {
   "cell_type": "code",
   "execution_count": 138,
   "metadata": {},
   "outputs": [
    {
     "data": {
      "text/plain": [
       "StandardScaler()"
      ]
     },
     "execution_count": 138,
     "metadata": {},
     "output_type": "execute_result"
    }
   ],
   "source": [
    "scaler.fit(df_cluster_data.drop('state',axis=1))"
   ]
  },
  {
   "cell_type": "code",
   "execution_count": 139,
   "metadata": {},
   "outputs": [],
   "source": [
    "scaled_features = scaler.transform(df_cluster_data.drop('state',axis=1))"
   ]
  },
  {
   "cell_type": "code",
   "execution_count": 141,
   "metadata": {},
   "outputs": [],
   "source": [
    "from sklearn.model_selection import train_test_split"
   ]
  },
  {
   "cell_type": "code",
   "execution_count": 142,
   "metadata": {},
   "outputs": [
    {
     "ename": "ValueError",
     "evalue": "Found input variables with inconsistent numbers of samples: [1705, 15493]",
     "output_type": "error",
     "traceback": [
      "\u001b[0;31m---------------------------------------------------------------------------\u001b[0m",
      "\u001b[0;31mValueError\u001b[0m                                Traceback (most recent call last)",
      "\u001b[0;32m<ipython-input-142-fac8d1694b93>\u001b[0m in \u001b[0;36m<module>\u001b[0;34m\u001b[0m\n\u001b[0;32m----> 1\u001b[0;31m X_train, X_test, y_train, y_test = train_test_split(scaled_features,df['state'],\n\u001b[0m\u001b[1;32m      2\u001b[0m                                                     test_size=0.30)\n",
      "\u001b[0;32m~/anaconda3/envs/working/lib/python3.8/site-packages/sklearn/model_selection/_split.py\u001b[0m in \u001b[0;36mtrain_test_split\u001b[0;34m(*arrays, **options)\u001b[0m\n\u001b[1;32m   2125\u001b[0m         \u001b[0;32mraise\u001b[0m \u001b[0mTypeError\u001b[0m\u001b[0;34m(\u001b[0m\u001b[0;34m\"Invalid parameters passed: %s\"\u001b[0m \u001b[0;34m%\u001b[0m \u001b[0mstr\u001b[0m\u001b[0;34m(\u001b[0m\u001b[0moptions\u001b[0m\u001b[0;34m)\u001b[0m\u001b[0;34m)\u001b[0m\u001b[0;34m\u001b[0m\u001b[0;34m\u001b[0m\u001b[0m\n\u001b[1;32m   2126\u001b[0m \u001b[0;34m\u001b[0m\u001b[0m\n\u001b[0;32m-> 2127\u001b[0;31m     \u001b[0marrays\u001b[0m \u001b[0;34m=\u001b[0m \u001b[0mindexable\u001b[0m\u001b[0;34m(\u001b[0m\u001b[0;34m*\u001b[0m\u001b[0marrays\u001b[0m\u001b[0;34m)\u001b[0m\u001b[0;34m\u001b[0m\u001b[0;34m\u001b[0m\u001b[0m\n\u001b[0m\u001b[1;32m   2128\u001b[0m \u001b[0;34m\u001b[0m\u001b[0m\n\u001b[1;32m   2129\u001b[0m     \u001b[0mn_samples\u001b[0m \u001b[0;34m=\u001b[0m \u001b[0m_num_samples\u001b[0m\u001b[0;34m(\u001b[0m\u001b[0marrays\u001b[0m\u001b[0;34m[\u001b[0m\u001b[0;36m0\u001b[0m\u001b[0;34m]\u001b[0m\u001b[0;34m)\u001b[0m\u001b[0;34m\u001b[0m\u001b[0;34m\u001b[0m\u001b[0m\n",
      "\u001b[0;32m~/anaconda3/envs/working/lib/python3.8/site-packages/sklearn/utils/validation.py\u001b[0m in \u001b[0;36mindexable\u001b[0;34m(*iterables)\u001b[0m\n\u001b[1;32m    291\u001b[0m     \"\"\"\n\u001b[1;32m    292\u001b[0m     \u001b[0mresult\u001b[0m \u001b[0;34m=\u001b[0m \u001b[0;34m[\u001b[0m\u001b[0m_make_indexable\u001b[0m\u001b[0;34m(\u001b[0m\u001b[0mX\u001b[0m\u001b[0;34m)\u001b[0m \u001b[0;32mfor\u001b[0m \u001b[0mX\u001b[0m \u001b[0;32min\u001b[0m \u001b[0miterables\u001b[0m\u001b[0;34m]\u001b[0m\u001b[0;34m\u001b[0m\u001b[0;34m\u001b[0m\u001b[0m\n\u001b[0;32m--> 293\u001b[0;31m     \u001b[0mcheck_consistent_length\u001b[0m\u001b[0;34m(\u001b[0m\u001b[0;34m*\u001b[0m\u001b[0mresult\u001b[0m\u001b[0;34m)\u001b[0m\u001b[0;34m\u001b[0m\u001b[0;34m\u001b[0m\u001b[0m\n\u001b[0m\u001b[1;32m    294\u001b[0m     \u001b[0;32mreturn\u001b[0m \u001b[0mresult\u001b[0m\u001b[0;34m\u001b[0m\u001b[0;34m\u001b[0m\u001b[0m\n\u001b[1;32m    295\u001b[0m \u001b[0;34m\u001b[0m\u001b[0m\n",
      "\u001b[0;32m~/anaconda3/envs/working/lib/python3.8/site-packages/sklearn/utils/validation.py\u001b[0m in \u001b[0;36mcheck_consistent_length\u001b[0;34m(*arrays)\u001b[0m\n\u001b[1;32m    254\u001b[0m     \u001b[0muniques\u001b[0m \u001b[0;34m=\u001b[0m \u001b[0mnp\u001b[0m\u001b[0;34m.\u001b[0m\u001b[0munique\u001b[0m\u001b[0;34m(\u001b[0m\u001b[0mlengths\u001b[0m\u001b[0;34m)\u001b[0m\u001b[0;34m\u001b[0m\u001b[0;34m\u001b[0m\u001b[0m\n\u001b[1;32m    255\u001b[0m     \u001b[0;32mif\u001b[0m \u001b[0mlen\u001b[0m\u001b[0;34m(\u001b[0m\u001b[0muniques\u001b[0m\u001b[0;34m)\u001b[0m \u001b[0;34m>\u001b[0m \u001b[0;36m1\u001b[0m\u001b[0;34m:\u001b[0m\u001b[0;34m\u001b[0m\u001b[0;34m\u001b[0m\u001b[0m\n\u001b[0;32m--> 256\u001b[0;31m         raise ValueError(\"Found input variables with inconsistent numbers of\"\n\u001b[0m\u001b[1;32m    257\u001b[0m                          \" samples: %r\" % [int(l) for l in lengths])\n\u001b[1;32m    258\u001b[0m \u001b[0;34m\u001b[0m\u001b[0m\n",
      "\u001b[0;31mValueError\u001b[0m: Found input variables with inconsistent numbers of samples: [1705, 15493]"
     ]
    }
   ],
   "source": [
    "X_train, X_test, y_train, y_test = train_test_split(scaled_features,df['state'],\n",
    "                                                    test_size=0.30)"
   ]
  },
  {
   "cell_type": "markdown",
   "metadata": {},
   "source": [
    "### VAR modeling"
   ]
  },
  {
   "cell_type": "code",
   "execution_count": 178,
   "metadata": {},
   "outputs": [
    {
     "name": "stdout",
     "output_type": "stream",
     "text": [
      "<class 'pandas.core.frame.DataFrame'>\n",
      "RangeIndex: 293 entries, 0 to 292\n",
      "Data columns (total 28 columns):\n",
      " #   Column                        Non-Null Count  Dtype         \n",
      "---  ------                        --------------  -----         \n",
      " 0   date                          293 non-null    datetime64[ns]\n",
      " 1   total_cases                   293 non-null    int64         \n",
      " 2   total_deaths                  293 non-null    int64         \n",
      " 3   total_tests                   293 non-null    int64         \n",
      " 4   daily_positive_7day_ma        293 non-null    float64       \n",
      " 5   daily_deaths_7day_ma          293 non-null    float64       \n",
      " 6   daily_tests_7day_ma           293 non-null    float64       \n",
      " 7   positivity_rate_orig_7day_ma  293 non-null    float64       \n",
      " 8   positivity_rate_7day_ma       293 non-null    float64       \n",
      " 9   prevalence_ratio_mean         293 non-null    float64       \n",
      " 10  prevalence_ratio_lower        293 non-null    float64       \n",
      " 11  prevalence_ratio_upper        293 non-null    float64       \n",
      " 12  rt_mean                       293 non-null    float64       \n",
      " 13  new_infected_mean             293 non-null    float64       \n",
      " 14  new_infected_lower            293 non-null    float64       \n",
      " 15  new_infected_upper            293 non-null    float64       \n",
      " 16  current_infected_mean         293 non-null    float64       \n",
      " 17  current_infected_lower        293 non-null    float64       \n",
      " 18  current_infected_upper        293 non-null    float64       \n",
      " 19  perc_current_infected_mean    293 non-null    float64       \n",
      " 20  perc_current_infected_lower   293 non-null    float64       \n",
      " 21  perc_current_infected_upper   293 non-null    float64       \n",
      " 22  total_infected_mean           293 non-null    float64       \n",
      " 23  total_infected_lower          293 non-null    float64       \n",
      " 24  total_infected_upper          293 non-null    float64       \n",
      " 25  perc_total_infected_mean      293 non-null    float64       \n",
      " 26  perc_total_infected_lower     293 non-null    float64       \n",
      " 27  perc_total_infected_upper     293 non-null    float64       \n",
      "dtypes: datetime64[ns](1), float64(24), int64(3)\n",
      "memory usage: 64.2 KB\n"
     ]
    }
   ],
   "source": [
    "df_usa.info()"
   ]
  },
  {
   "cell_type": "code",
   "execution_count": 180,
   "metadata": {},
   "outputs": [],
   "source": [
    "df_arima = df_usa.iloc[20:-14,:]\n",
    "data = df_arima.drop(['date'], axis=1)\n",
    "data = data[['rt_mean', 'new_infected_mean']]"
   ]
  },
  {
   "cell_type": "code",
   "execution_count": 181,
   "metadata": {},
   "outputs": [],
   "source": [
    "import statsmodels.api as sm\n",
    "from statsmodels.tsa.api import VAR"
   ]
  },
  {
   "cell_type": "code",
   "execution_count": 182,
   "metadata": {},
   "outputs": [],
   "source": [
    "from statsmodels.tsa.stattools import grangercausalitytests"
   ]
  },
  {
   "cell_type": "code",
   "execution_count": 183,
   "metadata": {},
   "outputs": [
    {
     "name": "stdout",
     "output_type": "stream",
     "text": [
      "\n",
      "Granger Causality\n",
      "number of lags (no zero) 1\n",
      "ssr based F test:         F=15.3822 , p=0.0001  , df_denom=255, df_num=1\n",
      "ssr based chi2 test:   chi2=15.5632 , p=0.0001  , df=1\n",
      "likelihood ratio test: chi2=15.1118 , p=0.0001  , df=1\n",
      "parameter F test:         F=15.3822 , p=0.0001  , df_denom=255, df_num=1\n",
      "\n",
      "Granger Causality\n",
      "number of lags (no zero) 2\n",
      "ssr based F test:         F=2.9469  , p=0.0543  , df_denom=252, df_num=2\n",
      "ssr based chi2 test:   chi2=6.0107  , p=0.0495  , df=2\n",
      "likelihood ratio test: chi2=5.9414  , p=0.0513  , df=2\n",
      "parameter F test:         F=2.9469  , p=0.0543  , df_denom=252, df_num=2\n"
     ]
    },
    {
     "data": {
      "text/plain": [
       "{1: ({'ssr_ftest': (15.382212594135586, 0.00011294287821391273, 255.0, 1),\n",
       "   'ssr_chi2test': (15.563179801125417, 7.97934450275149e-05, 1),\n",
       "   'lrtest': (15.111837875222363, 0.00010132590292752635, 1),\n",
       "   'params_ftest': (15.382212613706786, 0.00011294287711101228, 255.0, 1.0)},\n",
       "  [<statsmodels.regression.linear_model.RegressionResultsWrapper at 0x7f9c4953cb20>,\n",
       "   <statsmodels.regression.linear_model.RegressionResultsWrapper at 0x7f9c7a2ed3d0>,\n",
       "   array([[0., 1., 0.]])]),\n",
       " 2: ({'ssr_ftest': (2.9468574510087553, 0.05431660469447512, 252.0, 2),\n",
       "   'ssr_chi2test': (6.010653689755954, 0.049522565486094475, 2),\n",
       "   'lrtest': (5.941442880560771, 0.051266311405191334, 2),\n",
       "   'params_ftest': (2.9468573946284273, 0.054316607686877544, 252.0, 2.0)},\n",
       "  [<statsmodels.regression.linear_model.RegressionResultsWrapper at 0x7f9c7a2ed4c0>,\n",
       "   <statsmodels.regression.linear_model.RegressionResultsWrapper at 0x7f9c68a76280>,\n",
       "   array([[0., 0., 1., 0., 0.],\n",
       "          [0., 0., 0., 1., 0.]])])}"
      ]
     },
     "execution_count": 183,
     "metadata": {},
     "output_type": "execute_result"
    }
   ],
   "source": [
    "granger_test = sm.tsa.stattools.grangercausalitytests(data, maxlag=2, verbose=True)\n",
    "granger_test"
   ]
  },
  {
   "cell_type": "code",
   "execution_count": 211,
   "metadata": {},
   "outputs": [],
   "source": [
    "nobs = 4\n",
    "df_train, df_test = data[0:-nobs], data[-nobs:]"
   ]
  },
  {
   "cell_type": "code",
   "execution_count": 212,
   "metadata": {},
   "outputs": [
    {
     "data": {
      "text/html": [
       "<div>\n",
       "<style scoped>\n",
       "    .dataframe tbody tr th:only-of-type {\n",
       "        vertical-align: middle;\n",
       "    }\n",
       "\n",
       "    .dataframe tbody tr th {\n",
       "        vertical-align: top;\n",
       "    }\n",
       "\n",
       "    .dataframe thead th {\n",
       "        text-align: right;\n",
       "    }\n",
       "</style>\n",
       "<table border=\"1\" class=\"dataframe\">\n",
       "  <thead>\n",
       "    <tr style=\"text-align: right;\">\n",
       "      <th></th>\n",
       "      <th>rt_mean</th>\n",
       "      <th>new_infected_mean</th>\n",
       "    </tr>\n",
       "  </thead>\n",
       "  <tbody>\n",
       "    <tr>\n",
       "      <th>20</th>\n",
       "      <td>3.127760</td>\n",
       "      <td>20767.7</td>\n",
       "    </tr>\n",
       "    <tr>\n",
       "      <th>21</th>\n",
       "      <td>3.096700</td>\n",
       "      <td>25969.2</td>\n",
       "    </tr>\n",
       "    <tr>\n",
       "      <th>22</th>\n",
       "      <td>3.059010</td>\n",
       "      <td>32474.9</td>\n",
       "    </tr>\n",
       "    <tr>\n",
       "      <th>23</th>\n",
       "      <td>3.007410</td>\n",
       "      <td>40683.1</td>\n",
       "    </tr>\n",
       "    <tr>\n",
       "      <th>24</th>\n",
       "      <td>2.934910</td>\n",
       "      <td>49826.5</td>\n",
       "    </tr>\n",
       "    <tr>\n",
       "      <th>...</th>\n",
       "      <td>...</td>\n",
       "      <td>...</td>\n",
       "    </tr>\n",
       "    <tr>\n",
       "      <th>270</th>\n",
       "      <td>1.065210</td>\n",
       "      <td>564064.0</td>\n",
       "    </tr>\n",
       "    <tr>\n",
       "      <th>271</th>\n",
       "      <td>1.046320</td>\n",
       "      <td>563867.0</td>\n",
       "    </tr>\n",
       "    <tr>\n",
       "      <th>272</th>\n",
       "      <td>1.028450</td>\n",
       "      <td>562440.0</td>\n",
       "    </tr>\n",
       "    <tr>\n",
       "      <th>273</th>\n",
       "      <td>1.013020</td>\n",
       "      <td>559433.0</td>\n",
       "    </tr>\n",
       "    <tr>\n",
       "      <th>274</th>\n",
       "      <td>0.998901</td>\n",
       "      <td>555487.0</td>\n",
       "    </tr>\n",
       "  </tbody>\n",
       "</table>\n",
       "<p>255 rows × 2 columns</p>\n",
       "</div>"
      ],
      "text/plain": [
       "      rt_mean  new_infected_mean\n",
       "20   3.127760            20767.7\n",
       "21   3.096700            25969.2\n",
       "22   3.059010            32474.9\n",
       "23   3.007410            40683.1\n",
       "24   2.934910            49826.5\n",
       "..        ...                ...\n",
       "270  1.065210           564064.0\n",
       "271  1.046320           563867.0\n",
       "272  1.028450           562440.0\n",
       "273  1.013020           559433.0\n",
       "274  0.998901           555487.0\n",
       "\n",
       "[255 rows x 2 columns]"
      ]
     },
     "execution_count": 212,
     "metadata": {},
     "output_type": "execute_result"
    }
   ],
   "source": [
    "df_train"
   ]
  },
  {
   "cell_type": "code",
   "execution_count": 213,
   "metadata": {},
   "outputs": [],
   "source": [
    "from statsmodels.tsa.stattools import adfuller\n",
    "def adf_test(ts, signif=0.05):\n",
    "    dftest = adfuller(ts, autolag='AIC')\n",
    "    adf = pd.Series(dftest[0:4], index=['Test Statistic','p-value','# Lags','# Observations'])\n",
    "    for key,value in dftest[4].items():\n",
    "       adf['Critical Value (%s)'%key] = value\n",
    "    print (adf)\n",
    "    \n",
    "    p = adf['p-value']\n",
    "    if p <= signif:\n",
    "        print(f\" Series is Stationary\")\n",
    "    else:\n",
    "        print(f\" Series is Non-Stationary\")"
   ]
  },
  {
   "cell_type": "code",
   "execution_count": 214,
   "metadata": {},
   "outputs": [
    {
     "name": "stdout",
     "output_type": "stream",
     "text": [
      "Test Statistic           -3.072021\n",
      "p-value                   0.028694\n",
      "# Lags                   16.000000\n",
      "# Observations          238.000000\n",
      "Critical Value (1%)      -3.458128\n",
      "Critical Value (5%)      -2.873762\n",
      "Critical Value (10%)     -2.573283\n",
      "dtype: float64\n",
      " Series is Stationary\n",
      "Test Statistic           -1.505808\n",
      "p-value                   0.530636\n",
      "# Lags                   16.000000\n",
      "# Observations          238.000000\n",
      "Critical Value (1%)      -3.458128\n",
      "Critical Value (5%)      -2.873762\n",
      "Critical Value (10%)     -2.573283\n",
      "dtype: float64\n",
      " Series is Non-Stationary\n"
     ]
    }
   ],
   "source": [
    "adf_test(df_train[\"rt_mean\"])\n",
    "adf_test(df_train[\"new_infected_mean\"])"
   ]
  },
  {
   "cell_type": "code",
   "execution_count": 215,
   "metadata": {},
   "outputs": [
    {
     "name": "stdout",
     "output_type": "stream",
     "text": [
      "Test Statistic           -4.821307\n",
      "p-value                   0.000050\n",
      "# Lags                   16.000000\n",
      "# Observations          237.000000\n",
      "Critical Value (1%)      -3.458247\n",
      "Critical Value (5%)      -2.873814\n",
      "Critical Value (10%)     -2.573311\n",
      "dtype: float64\n",
      " Series is Stationary\n"
     ]
    }
   ],
   "source": [
    "# 1st difference\n",
    "df_differenced = df_train.diff().dropna()\n",
    "# stationarity test again with differenced data\n",
    "adf_test(df_differenced[\"rt_mean\"])"
   ]
  },
  {
   "cell_type": "code",
   "execution_count": 216,
   "metadata": {},
   "outputs": [
    {
     "name": "stderr",
     "output_type": "stream",
     "text": [
      "/Users/mikecave/anaconda3/envs/working/lib/python3.8/site-packages/statsmodels/tsa/base/tsa_model.py:578: ValueWarning: An unsupported index was provided and will be ignored when e.g. forecasting.\n",
      "  warnings.warn('An unsupported index was provided and will be'\n"
     ]
    },
    {
     "data": {
      "text/plain": [
       "  Summary of Regression Results   \n",
       "==================================\n",
       "Model:                         VAR\n",
       "Method:                        OLS\n",
       "Date:           Tue, 01, Dec, 2020\n",
       "Time:                     14:12:59\n",
       "--------------------------------------------------------------------\n",
       "No. of Equations:         2.00000    BIC:                   -1.51364\n",
       "Nobs:                     239.000    HQIC:                  -2.05206\n",
       "Log likelihood:          -327.603    FPE:                  0.0895873\n",
       "AIC:                     -2.41548    Det(Omega_mle):       0.0701964\n",
       "--------------------------------------------------------------------\n",
       "Results for equation rt_mean\n",
       "========================================================================================\n",
       "                           coefficient       std. error           t-stat            prob\n",
       "----------------------------------------------------------------------------------------\n",
       "const                         0.000058         0.000041            1.420           0.155\n",
       "L1.rt_mean                    2.222908         0.068672           32.370           0.000\n",
       "L1.new_infected_mean          0.000000         0.000000            5.015           0.000\n",
       "L2.rt_mean                   -1.358219         0.169575           -8.010           0.000\n",
       "L2.new_infected_mean         -0.000001         0.000000           -6.097           0.000\n",
       "L3.rt_mean                    0.176023         0.196694            0.895           0.371\n",
       "L3.new_infected_mean          0.000001         0.000000            4.244           0.000\n",
       "L4.rt_mean                   -0.550497         0.184981           -2.976           0.003\n",
       "L4.new_infected_mean         -0.000001         0.000000           -9.548           0.000\n",
       "L5.rt_mean                    0.315652         0.168350            1.875           0.061\n",
       "L5.new_infected_mean          0.000002         0.000000            9.223           0.000\n",
       "L6.rt_mean                    0.721979         0.155486            4.643           0.000\n",
       "L6.new_infected_mean         -0.000001         0.000000           -2.644           0.008\n",
       "L7.rt_mean                   -0.868841         0.157423           -5.519           0.000\n",
       "L7.new_infected_mean          0.000000         0.000000            0.299           0.765\n",
       "L8.rt_mean                    0.739819         0.159611            4.635           0.000\n",
       "L8.new_infected_mean          0.000000         0.000000            0.817           0.414\n",
       "L9.rt_mean                   -0.775560         0.162263           -4.780           0.000\n",
       "L9.new_infected_mean          0.000000         0.000000            0.129           0.897\n",
       "L10.rt_mean                   0.314962         0.157617            1.998           0.046\n",
       "L10.new_infected_mean        -0.000000         0.000000           -0.185           0.853\n",
       "L11.rt_mean                   0.075832         0.132144            0.574           0.566\n",
       "L11.new_infected_mean        -0.000001         0.000000           -5.296           0.000\n",
       "L12.rt_mean                   0.062148         0.117661            0.528           0.597\n",
       "L12.new_infected_mean         0.000001         0.000000            4.313           0.000\n",
       "L13.rt_mean                  -0.052106         0.099865           -0.522           0.602\n",
       "L13.new_infected_mean        -0.000000         0.000000           -0.715           0.475\n",
       "L14.rt_mean                  -0.122155         0.079797           -1.531           0.126\n",
       "L14.new_infected_mean         0.000000         0.000000            1.757           0.079\n",
       "L15.rt_mean                   0.082083         0.033995            2.415           0.016\n",
       "L15.new_infected_mean        -0.000000         0.000000           -2.518           0.012\n",
       "========================================================================================\n",
       "\n",
       "Results for equation new_infected_mean\n",
       "========================================================================================\n",
       "                           coefficient       std. error           t-stat            prob\n",
       "----------------------------------------------------------------------------------------\n",
       "const                        -1.009032        32.890357           -0.031           0.976\n",
       "L1.rt_mean                79913.993822     55650.230471            1.436           0.151\n",
       "L1.new_infected_mean          1.078161         0.068462           15.748           0.000\n",
       "L2.rt_mean                -6110.861239    137420.613725           -0.044           0.965\n",
       "L2.new_infected_mean          0.114422         0.097299            1.176           0.240\n",
       "L3.rt_mean               400648.307110    159397.323537            2.514           0.012\n",
       "L3.new_infected_mean          0.078851         0.107397            0.734           0.463\n",
       "L4.rt_mean             -1120526.270511    149905.346202           -7.475           0.000\n",
       "L4.new_infected_mean         -0.249641         0.117719           -2.121           0.034\n",
       "L5.rt_mean               514585.643992    136428.038030            3.772           0.000\n",
       "L5.new_infected_mean          0.325466         0.145034            2.244           0.025\n",
       "L6.rt_mean               272272.348228    126002.848450            2.161           0.031\n",
       "L6.new_infected_mean         -0.327708         0.169249           -1.936           0.053\n",
       "L7.rt_mean                97413.250814    127572.841102            0.764           0.445\n",
       "L7.new_infected_mean         -0.390332         0.168412           -2.318           0.020\n",
       "L8.rt_mean               -57115.073812    129345.627210           -0.442           0.659\n",
       "L8.new_infected_mean          0.256389         0.156358            1.640           0.101\n",
       "L9.rt_mean              -402522.982363    131495.017991           -3.061           0.002\n",
       "L9.new_infected_mean          0.187933         0.152515            1.232           0.218\n",
       "L10.rt_mean              300630.471174    127730.009332            2.354           0.019\n",
       "L10.new_infected_mean         0.142663         0.148783            0.959           0.338\n",
       "L11.rt_mean             -238832.890320    107087.284419           -2.230           0.026\n",
       "L11.new_infected_mean        -0.214318         0.145111           -1.477           0.140\n",
       "L12.rt_mean              244311.788780     95350.075277            2.562           0.010\n",
       "L12.new_infected_mean        -0.111144         0.150955           -0.736           0.462\n",
       "L13.rt_mean               -6231.687337     80928.675515           -0.077           0.939\n",
       "L13.new_infected_mean         0.025175         0.161236            0.156           0.876\n",
       "L14.rt_mean              -72681.544786     64666.149271           -1.124           0.261\n",
       "L14.new_infected_mean         0.061201         0.155146            0.394           0.693\n",
       "L15.rt_mean                7956.745125     27548.942873            0.289           0.773\n",
       "L15.new_infected_mean         0.018243         0.078916            0.231           0.817\n",
       "========================================================================================\n",
       "\n",
       "Correlation matrix of residuals\n",
       "                      rt_mean  new_infected_mean\n",
       "rt_mean              1.000000           0.111597\n",
       "new_infected_mean    0.111597           1.000000\n",
       "\n"
      ]
     },
     "execution_count": 216,
     "metadata": {},
     "output_type": "execute_result"
    }
   ],
   "source": [
    "# model fitting\n",
    "model = VAR(df_differenced)\n",
    "results = model.fit(maxlags=15, ic='aic')\n",
    "results.summary()"
   ]
  },
  {
   "cell_type": "code",
   "execution_count": 217,
   "metadata": {},
   "outputs": [
    {
     "data": {
      "text/plain": [
       "array([[ 9.46414710e-01,  5.50315299e+05],\n",
       "       [ 8.92160670e-01,  5.55916530e+05],\n",
       "       [ 8.05133451e-01,  5.60521782e+05],\n",
       "       [ 6.81810293e-01,  5.51590879e+05],\n",
       "       [ 5.12296792e-01,  5.37503858e+05],\n",
       "       [ 3.21195634e-01,  5.24235805e+05],\n",
       "       [ 1.15539384e-01,  5.04311264e+05],\n",
       "       [-7.86300041e-02,  4.72219138e+05],\n",
       "       [-2.46483685e-01,  4.41049903e+05],\n",
       "       [-3.72031913e-01,  4.08756215e+05],\n",
       "       [-4.47966848e-01,  3.87249017e+05],\n",
       "       [-4.62053353e-01,  3.68581023e+05],\n",
       "       [-4.38222268e-01,  3.48233924e+05],\n",
       "       [-3.81915928e-01,  3.32751796e+05]])"
      ]
     },
     "execution_count": 217,
     "metadata": {},
     "output_type": "execute_result"
    }
   ],
   "source": [
    "lag_order = results.k_ar\n",
    "results.forecast(data.values[-lag_order:], 14)"
   ]
  },
  {
   "cell_type": "code",
   "execution_count": 218,
   "metadata": {},
   "outputs": [
    {
     "data": {
      "image/png": "[encoded data removed]",
      "text/plain": [
       "<Figure size 720x720 with 2 Axes>"
      ]
     },
     "execution_count": 218,
     "metadata": {},
     "output_type": "execute_result"
    },
    {
     "data": {
      "image/png": "[encoded data removed]",
      "text/plain": [
       "<Figure size 720x720 with 2 Axes>"
      ]
     },
     "metadata": {
      "needs_background": "light"
     },
     "output_type": "display_data"
    }
   ],
   "source": [
    "results.plot_forecast(20)"
   ]
  },
  {
   "cell_type": "code",
   "execution_count": 219,
   "metadata": {},
   "outputs": [
    {
     "name": "stdout",
     "output_type": "stream",
     "text": [
      "FEVD for rt_mean\n",
      "      rt_mean  new_infected_mean\n",
      "0    1.000000           0.000000\n",
      "1    0.981315           0.018685\n",
      "2    0.979819           0.020181\n",
      "3    0.972008           0.027992\n",
      "4    0.980749           0.019251\n",
      "\n",
      "FEVD for new_infected_mean\n",
      "      rt_mean  new_infected_mean\n",
      "0    0.012454           0.987546\n",
      "1    0.027499           0.972501\n",
      "2    0.067167           0.932833\n",
      "3    0.247745           0.752255\n",
      "4    0.329577           0.670423\n",
      "\n",
      "\n"
     ]
    }
   ],
   "source": [
    "fevd = results.fevd(5)\n",
    "fevd.summary()"
   ]
  },
  {
   "cell_type": "code",
   "execution_count": 220,
   "metadata": {},
   "outputs": [
    {
     "name": "stderr",
     "output_type": "stream",
     "text": [
      "/Users/mikecave/anaconda3/envs/working/lib/python3.8/site-packages/statsmodels/base/wrapper.py:34: FutureWarning: y is a deprecated alias for endog, will be removed in version 0.11.0\n",
      "  obj = getattr(results, attr)\n"
     ]
    },
    {
     "data": {
      "text/html": [
       "<div>\n",
       "<style scoped>\n",
       "    .dataframe tbody tr th:only-of-type {\n",
       "        vertical-align: middle;\n",
       "    }\n",
       "\n",
       "    .dataframe tbody tr th {\n",
       "        vertical-align: top;\n",
       "    }\n",
       "\n",
       "    .dataframe thead th {\n",
       "        text-align: right;\n",
       "    }\n",
       "</style>\n",
       "<table border=\"1\" class=\"dataframe\">\n",
       "  <thead>\n",
       "    <tr style=\"text-align: right;\">\n",
       "      <th></th>\n",
       "      <th>rt_mean_1d</th>\n",
       "      <th>new_infected_mean_1d</th>\n",
       "    </tr>\n",
       "  </thead>\n",
       "  <tbody>\n",
       "    <tr>\n",
       "      <th>15489</th>\n",
       "      <td>-0.007396</td>\n",
       "      <td>-4208.088425</td>\n",
       "    </tr>\n",
       "    <tr>\n",
       "      <th>15490</th>\n",
       "      <td>-0.000985</td>\n",
       "      <td>-5503.892341</td>\n",
       "    </tr>\n",
       "    <tr>\n",
       "      <th>15491</th>\n",
       "      <td>0.005617</td>\n",
       "      <td>-6484.312144</td>\n",
       "    </tr>\n",
       "    <tr>\n",
       "      <th>15492</th>\n",
       "      <td>0.013192</td>\n",
       "      <td>-3055.590652</td>\n",
       "    </tr>\n",
       "  </tbody>\n",
       "</table>\n",
       "</div>"
      ],
      "text/plain": [
       "       rt_mean_1d  new_infected_mean_1d\n",
       "15489   -0.007396          -4208.088425\n",
       "15490   -0.000985          -5503.892341\n",
       "15491    0.005617          -6484.312144\n",
       "15492    0.013192          -3055.590652"
      ]
     },
     "execution_count": 220,
     "metadata": {},
     "output_type": "execute_result"
    }
   ],
   "source": [
    "# forecasting\n",
    "pred = results.forecast(results.y, steps=nobs)\n",
    "df_forecast = pd.DataFrame(pred, index=df.index[-nobs:], columns=data.columns + '_1d')\n",
    "df_forecast.tail()\n"
   ]
  },
  {
   "cell_type": "code",
   "execution_count": 221,
   "metadata": {},
   "outputs": [],
   "source": [
    "# inverting transformation\n",
    "def invert_transformation(df_train, df_forecast, second_diff=False):\n",
    "    \"\"\"Revert back the differencing to get the forecast to original scale.\"\"\"\n",
    "    df_fc = df_forecast.copy()\n",
    "    columns = df_train.columns\n",
    "    for col in columns:        \n",
    "        # Roll back 2nd Diff\n",
    "        if second_diff:\n",
    "            df_fc[str(col)+'_1d'] = (df_train[col].iloc[-1]-df_train[col].iloc[-2]) + df_fc[str(col)+'_1d'].cumsum()\n",
    "        # Roll back 1st Diff\n",
    "        df_fc[str(col)+'_forecast'] = df_train[col].iloc[-1] + df_fc[str(col)+'_1d'].cumsum()\n",
    "    return df_fc\n",
    "# show inverted results in a dataframe\n",
    "df_results = invert_transformation(df_train, df_forecast, second_diff=True)        \n",
    "#df_results.loc[:, ['realgdp_forecast', 'realcons_forecast']]"
   ]
  },
  {
   "cell_type": "code",
   "execution_count": 222,
   "metadata": {},
   "outputs": [
    {
     "data": {
      "text/html": [
       "<div>\n",
       "<style scoped>\n",
       "    .dataframe tbody tr th:only-of-type {\n",
       "        vertical-align: middle;\n",
       "    }\n",
       "\n",
       "    .dataframe tbody tr th {\n",
       "        vertical-align: top;\n",
       "    }\n",
       "\n",
       "    .dataframe thead th {\n",
       "        text-align: right;\n",
       "    }\n",
       "</style>\n",
       "<table border=\"1\" class=\"dataframe\">\n",
       "  <thead>\n",
       "    <tr style=\"text-align: right;\">\n",
       "      <th></th>\n",
       "      <th>rt_mean_1d</th>\n",
       "      <th>new_infected_mean_1d</th>\n",
       "      <th>rt_mean_forecast</th>\n",
       "      <th>new_infected_mean_forecast</th>\n",
       "    </tr>\n",
       "  </thead>\n",
       "  <tbody>\n",
       "    <tr>\n",
       "      <th>15489</th>\n",
       "      <td>-0.021515</td>\n",
       "      <td>-8154.088425</td>\n",
       "      <td>0.977386</td>\n",
       "      <td>547332.911575</td>\n",
       "    </tr>\n",
       "    <tr>\n",
       "      <th>15490</th>\n",
       "      <td>-0.022500</td>\n",
       "      <td>-13657.980766</td>\n",
       "      <td>0.954886</td>\n",
       "      <td>533674.930809</td>\n",
       "    </tr>\n",
       "    <tr>\n",
       "      <th>15491</th>\n",
       "      <td>-0.016883</td>\n",
       "      <td>-20142.292910</td>\n",
       "      <td>0.938003</td>\n",
       "      <td>513532.637899</td>\n",
       "    </tr>\n",
       "    <tr>\n",
       "      <th>15492</th>\n",
       "      <td>-0.003691</td>\n",
       "      <td>-23197.883562</td>\n",
       "      <td>0.934312</td>\n",
       "      <td>490334.754337</td>\n",
       "    </tr>\n",
       "  </tbody>\n",
       "</table>\n",
       "</div>"
      ],
      "text/plain": [
       "       rt_mean_1d  new_infected_mean_1d  rt_mean_forecast  \\\n",
       "15489   -0.021515          -8154.088425          0.977386   \n",
       "15490   -0.022500         -13657.980766          0.954886   \n",
       "15491   -0.016883         -20142.292910          0.938003   \n",
       "15492   -0.003691         -23197.883562          0.934312   \n",
       "\n",
       "       new_infected_mean_forecast  \n",
       "15489               547332.911575  \n",
       "15490               533674.930809  \n",
       "15491               513532.637899  \n",
       "15492               490334.754337  "
      ]
     },
     "execution_count": 222,
     "metadata": {},
     "output_type": "execute_result"
    }
   ],
   "source": [
    "df_results"
   ]
  },
  {
   "cell_type": "code",
   "execution_count": null,
   "metadata": {},
   "outputs": [],
   "source": []
  }
 ],
 "metadata": {
  "kernelspec": {
   "display_name": "Python 3",
   "language": "python",
   "name": "python3"
  },
  "language_info": {
   "codemirror_mode": {
    "name": "ipython",
    "version": 3
   },
   "file_extension": ".py",
   "mimetype": "text/x-python",
   "name": "python",
   "nbconvert_exporter": "python",
   "pygments_lexer": "ipython3",
   "version": "3.8.5"
  }
 },
 "nbformat": 4,
 "nbformat_minor": 4
}
