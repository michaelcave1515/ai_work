{
 "cells": [
  {
   "cell_type": "code",
   "execution_count": 11,
   "metadata": {},
   "outputs": [],
   "source": [
    "import pandas as pd\n",
    "import datetime"
   ]
  },
  {
   "cell_type": "code",
   "execution_count": 6,
   "metadata": {},
   "outputs": [],
   "source": [
    "url= \"https://raw.githubusercontent.com/youyanggu/covid19_projections/master/infection_estimates/latest_all_estimates_states.csv\""
   ]
  },
  {
   "cell_type": "code",
   "execution_count": 7,
   "metadata": {},
   "outputs": [],
   "source": [
    "df = pd.read_csv(url)"
   ]
  },
  {
   "cell_type": "code",
   "execution_count": 12,
   "metadata": {},
   "outputs": [],
   "source": [
    "df = df.fillna(0)\n",
    "df['date'] = pd.to_datetime(df['date'], format=\"%Y-%m-%d\")"
   ]
  },
  {
   "cell_type": "code",
   "execution_count": 18,
   "metadata": {},
   "outputs": [
    {
     "name": "stdout",
     "output_type": "stream",
     "text": [
      "<class 'pandas.core.frame.DataFrame'>\n",
      "RangeIndex: 14667 entries, 0 to 14666\n",
      "Data columns (total 25 columns):\n",
      " #   Column                        Non-Null Count  Dtype         \n",
      "---  ------                        --------------  -----         \n",
      " 0   date                          14667 non-null  datetime64[ns]\n",
      " 1   state                         14667 non-null  object        \n",
      " 2   daily_positive_7day_ma        14667 non-null  float64       \n",
      " 3   daily_tests_7day_ma           14667 non-null  float64       \n",
      " 4   positivity_rate_orig_7day_ma  14667 non-null  float64       \n",
      " 5   positivity_rate_7day_ma       14667 non-null  float64       \n",
      " 6   prevalence_ratio_mean         14667 non-null  float64       \n",
      " 7   prevalence_ratio_lower        14667 non-null  float64       \n",
      " 8   prevalence_ratio_upper        14667 non-null  float64       \n",
      " 9   rt_mean                       14667 non-null  float64       \n",
      " 10  new_infected_mean             14667 non-null  float64       \n",
      " 11  new_infected_lower            14667 non-null  float64       \n",
      " 12  new_infected_upper            14667 non-null  float64       \n",
      " 13  current_infected_mean         14667 non-null  float64       \n",
      " 14  current_infected_lower        14667 non-null  float64       \n",
      " 15  current_infected_upper        14667 non-null  float64       \n",
      " 16  perc_current_infected_mean    14667 non-null  float64       \n",
      " 17  perc_current_infected_lower   14667 non-null  float64       \n",
      " 18  perc_current_infected_upper   14667 non-null  float64       \n",
      " 19  total_infected_mean           14667 non-null  float64       \n",
      " 20  total_infected_lower          14667 non-null  float64       \n",
      " 21  total_infected_upper          14667 non-null  float64       \n",
      " 22  perc_total_infected_mean      14667 non-null  float64       \n",
      " 23  perc_total_infected_lower     14667 non-null  float64       \n",
      " 24  perc_total_infected_upper     14667 non-null  float64       \n",
      "dtypes: datetime64[ns](1), float64(23), object(1)\n",
      "memory usage: 2.8+ MB\n"
     ]
    }
   ],
   "source": [
    "df.info()"
   ]
  },
  {
   "cell_type": "code",
   "execution_count": 21,
   "metadata": {},
   "outputs": [],
   "source": [
    "df.to_csv('infectionEstimates.csv', index=False)"
   ]
  },
  {
   "cell_type": "code",
   "execution_count": 20,
   "metadata": {},
   "outputs": [
    {
     "data": {
      "text/plain": [
       "'/Users/mikecave/Documents/GitHub/working/working/covid_data'"
      ]
     },
     "execution_count": 20,
     "metadata": {},
     "output_type": "execute_result"
    }
   ],
   "source": [
    "import os \n",
    "os.getcwd()"
   ]
  },
  {
   "cell_type": "code",
   "execution_count": null,
   "metadata": {},
   "outputs": [],
   "source": []
  },
  {
   "cell_type": "code",
   "execution_count": null,
   "metadata": {},
   "outputs": [],
   "source": []
  },
  {
   "cell_type": "code",
   "execution_count": null,
   "metadata": {},
   "outputs": [],
   "source": []
  },
  {
   "cell_type": "code",
   "execution_count": null,
   "metadata": {},
   "outputs": [],
   "source": []
  }
 ],
 "metadata": {
  "kernelspec": {
   "display_name": "Python 3",
   "language": "python",
   "name": "python3"
  },
  "language_info": {
   "codemirror_mode": {
    "name": "ipython",
    "version": 3
   },
   "file_extension": ".py",
   "mimetype": "text/x-python",
   "name": "python",
   "nbconvert_exporter": "python",
   "pygments_lexer": "ipython3",
   "version": "3.8.5"
  }
 },
 "nbformat": 4,
 "nbformat_minor": 4
}
