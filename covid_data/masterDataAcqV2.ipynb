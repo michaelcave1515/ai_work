{
 "cells": [
  {
   "cell_type": "code",
   "execution_count": 21,
   "metadata": {},
   "outputs": [],
   "source": [
    "import pandas as pd\n",
    "import datetime as date\n",
    "import matplotlib.pyplot as plt\n",
    "import numpy as np\n",
    "import seaborn as sns\n",
    "import covidcast\n",
    "from bs4 import BeautifulSoup\n",
    "import requests\n",
    "from sodapy import Socrata\n",
    "import covidcast\n",
    "import warnings\n",
    "warnings.filterwarnings('ignore')"
   ]
  },
  {
   "cell_type": "markdown",
   "metadata": {},
   "source": [
    "Notes:\n",
    "\n",
    "Data Sites:\n",
    "\n",
    "covid19-projections.com\n",
    "worldmeters.info\n",
    "covid tracking project\n",
    "individual sites\n",
    "CDC flu tracker\n",
    "individual state sites\n",
    "USC behavior data\n",
    "HHS data\n",
    "CDC case level data\n",
    "Our World in Data\n",
    "mortality.org\n",
    "IHME data\n"
   ]
  },
  {
   "cell_type": "markdown",
   "metadata": {},
   "source": [
    "### Covid 19 Projections"
   ]
  },
  {
   "cell_type": "code",
   "execution_count": 2,
   "metadata": {},
   "outputs": [],
   "source": [
    "c19_url = \"https://raw.githubusercontent.com/youyanggu/covid19_projections/master/infection_estimates/latest_all_estimates_states.csv\"\n",
    "c19_url_usa = \"https://raw.githubusercontent.com/youyanggu/covid19_projections/master/infection_estimates/latest_all_estimates_us.csv\"\n",
    "#hhs_url = 'https://healthdata.gov/sites/default/files/reported_hospital_capacity_admissions_facility-level_weekly_average_timeseries_20201207.csv'"
   ]
  },
  {
   "cell_type": "code",
   "execution_count": 4,
   "metadata": {},
   "outputs": [],
   "source": [
    "c19_df_states = pd.read_csv(c19_url)\n",
    "c19_df_usa = pd.read_csv(c19_url_usa)"
   ]
  },
  {
   "cell_type": "code",
   "execution_count": 5,
   "metadata": {},
   "outputs": [],
   "source": [
    "c19_df_states = c19_df_states.fillna(0)\n",
    "c19_df_states['date'] = pd.to_datetime(c19_df_states['date'], format=\"%Y-%m-%d\")\n",
    "c19_df_usa = c19_df_usa.fillna(0)\n",
    "c19_df_usa['date'] = pd.to_datetime(c19_df_usa['date'], format=\"%Y-%m-%d\")"
   ]
  },
  {
   "cell_type": "code",
   "execution_count": 6,
   "metadata": {},
   "outputs": [
    {
     "name": "stdout",
     "output_type": "stream",
     "text": [
      "The report today is from 2021-02-19 and the 7d MA is 68,933.4 on 1,457,820.0 tests with an adjusted positivity rate of 4.73% data: covid19-projections.com\n"
     ]
    }
   ],
   "source": [
    "# example for daily printout readings\n",
    "\n",
    "date = c19_df_usa['date'].iloc[-1]\n",
    "cases = c19_df_usa['daily_positive_7day_ma'].iloc[-1]\n",
    "tests = c19_df_usa['daily_tests_7day_ma'].iloc[-1]\n",
    "adj_pos_rate = c19_df_usa['positivity_rate_7day_ma'].iloc[-1]\n",
    "\n",
    "print(f'The report today is from {date:%Y-%m-%d} and the 7d MA is {cases:,} on {tests:,} tests \\\n",
    "with an adjusted positivity rate of {adj_pos_rate:.2%} data: covid19-projections.com')"
   ]
  },
  {
   "cell_type": "markdown",
   "metadata": {},
   "source": [
    "### Worldmeters"
   ]
  },
  {
   "cell_type": "code",
   "execution_count": 3,
   "metadata": {},
   "outputs": [],
   "source": [
    "url = 'https://www.worldometers.info/coronavirus/country/us/'\n",
    "\n",
    "header = {\n",
    "  \"User-Agent\": \"Mozilla/5.0 (X11; Linux x86_64) AppleWebKit/537.36 (KHTML, like Gecko) Chrome/50.0.2661.75 Safari/537.36\",\n",
    "  \"X-Requested-With\": \"XMLHttpRequest\"\n",
    "}\n",
    "\n",
    "r = requests.get(url, headers=header)\n",
    "\n",
    "wom_df = pd.read_html(r.text)\n",
    "    \n"
   ]
  },
  {
   "cell_type": "code",
   "execution_count": 4,
   "metadata": {},
   "outputs": [],
   "source": [
    "wow_df_today = pd.DataFrame(wom_df[0])"
   ]
  },
  {
   "cell_type": "code",
   "execution_count": 6,
   "metadata": {},
   "outputs": [],
   "source": [
    "wow_df_yesterday = pd.DataFrame(wom_df[1])"
   ]
  },
  {
   "cell_type": "markdown",
   "metadata": {},
   "source": [
    "### Oxford SI"
   ]
  },
  {
   "cell_type": "code",
   "execution_count": 7,
   "metadata": {},
   "outputs": [],
   "source": [
    "oxford = 'https://raw.githubusercontent.com/OxCGRT/USA-covid-policy/master/data/OxCGRT_US_latest.csv'"
   ]
  },
  {
   "cell_type": "code",
   "execution_count": 8,
   "metadata": {},
   "outputs": [],
   "source": [
    "oxford_data = pd.read_csv(oxford)"
   ]
  },
  {
   "cell_type": "markdown",
   "metadata": {},
   "source": [
    "### HHS Datasets"
   ]
  },
  {
   "cell_type": "code",
   "execution_count": 11,
   "metadata": {},
   "outputs": [
    {
     "name": "stderr",
     "output_type": "stream",
     "text": [
      "WARNING:root:Requests made without an app_token will be subject to strict throttling limits.\n"
     ]
    }
   ],
   "source": [
    "client = Socrata(\"beta.healthdata.gov\", None)"
   ]
  },
  {
   "cell_type": "code",
   "execution_count": 12,
   "metadata": {},
   "outputs": [],
   "source": [
    "results = client.get(\"g62h-syeh\", limit=16000)"
   ]
  },
  {
   "cell_type": "code",
   "execution_count": 13,
   "metadata": {},
   "outputs": [],
   "source": [
    "hhs_ts_df = pd.DataFrame.from_records(results)"
   ]
  },
  {
   "cell_type": "code",
   "execution_count": 14,
   "metadata": {},
   "outputs": [],
   "source": [
    "hhs_ts_df['date'] = pd.to_datetime(hhs_ts_df['date'])"
   ]
  },
  {
   "cell_type": "code",
   "execution_count": 15,
   "metadata": {},
   "outputs": [],
   "source": [
    "for col in hhs_ts_df.columns[2:60]:\n",
    "    hhs_ts_df[col] = pd.to_numeric(hhs_ts_df[col], errors='coerce')"
   ]
  },
  {
   "cell_type": "markdown",
   "metadata": {},
   "source": [
    "#### daily HHS"
   ]
  },
  {
   "cell_type": "code",
   "execution_count": 17,
   "metadata": {},
   "outputs": [],
   "source": [
    "results_daily = client.get(\"6xf2-c3ie\", limit=2000)\n",
    "\n",
    "# Convert to pandas DataFrame\n",
    "hhs_daily_df = pd.DataFrame.from_records(results_daily)"
   ]
  },
  {
   "cell_type": "markdown",
   "metadata": {},
   "source": [
    "### Our World in Data "
   ]
  },
  {
   "cell_type": "code",
   "execution_count": 20,
   "metadata": {},
   "outputs": [],
   "source": [
    "owid_df = pd.read_csv('https://covid.ourworldindata.org/data/owid-covid-data.csv')"
   ]
  },
  {
   "cell_type": "markdown",
   "metadata": {},
   "source": [
    "### Mask Compliance data from CMU\n",
    "\n",
    "##### docs: https://cmu-delphi.github.io/covidcast/covidcast-py/html/"
   ]
  },
  {
   "cell_type": "code",
   "execution_count": 23,
   "metadata": {},
   "outputs": [],
   "source": [
    "from datetime import date\n",
    "cmu_county_df = covidcast.signal(\"fb-survey\", \"smoothed_wearing_mask\",\n",
    "                        date(2020, 10, 15), date(2020, 11, 29),\n",
    "                        \"county\")"
   ]
  },
  {
   "cell_type": "code",
   "execution_count": 27,
   "metadata": {},
   "outputs": [
    {
     "name": "stderr",
     "output_type": "stream",
     "text": [
      "/Users/mikecave/anaconda3/envs/working/lib/python3.8/site-packages/covidcast/covidcast.py:372: UserWarning: Problem obtaining data on 20210222: no results\n",
      "  warnings.warn(\"Problem obtaining data on {day}: {message}\".format(\n"
     ]
    }
   ],
   "source": [
    "cmu_state_df = covidcast.signal(\"fb-survey\", \"smoothed_wearing_mask\",\n",
    "                        date(2020, 10, 1), date(2021, 2, 22),\n",
    "                        \"state\")"
   ]
  },
  {
   "cell_type": "markdown",
   "metadata": {},
   "source": [
    "### Old CTP Data"
   ]
  },
  {
   "cell_type": "code",
   "execution_count": 32,
   "metadata": {},
   "outputs": [],
   "source": [
    "ctp_url = 'https://covidtracking.com/api/v1/states/daily.csv'\n",
    "ctp_url_usa = 'https://covidtracking.com/api/v1/us/daily.csv'"
   ]
  },
  {
   "cell_type": "code",
   "execution_count": 33,
   "metadata": {},
   "outputs": [],
   "source": [
    "ctp_df = pd.read_csv(ctp_url)\n",
    "ctp_df = ctp_df.fillna(0)\n",
    "ctp_df['date'] = pd.to_datetime(ctp_df['date'], format=\"%Y%m%d\")"
   ]
  },
  {
   "cell_type": "code",
   "execution_count": 34,
   "metadata": {},
   "outputs": [],
   "source": [
    "ctp_usa_df = pd.read_csv(ctp_url_usa)\n",
    "ctp_usa_df = ctp_usa_df.fillna(0)\n",
    "ctp_usa_df['date'] = pd.to_datetime(ctp_usa_df['date'], format=\"%Y%m%d\")"
   ]
  },
  {
   "cell_type": "code",
   "execution_count": 35,
   "metadata": {},
   "outputs": [],
   "source": [
    "# converts date column to more consumable option for differing types of visualizations\n",
    "ctp_df['date'] = ctp_df['date'].dt.date\n",
    "ctp_usa_df['date'] = ctp_usa_df['date'].dt.date"
   ]
  },
  {
   "cell_type": "code",
   "execution_count": null,
   "metadata": {},
   "outputs": [],
   "source": []
  }
 ],
 "metadata": {
  "kernelspec": {
   "display_name": "Python 3",
   "language": "python",
   "name": "python3"
  },
  "language_info": {
   "codemirror_mode": {
    "name": "ipython",
    "version": 3
   },
   "file_extension": ".py",
   "mimetype": "text/x-python",
   "name": "python",
   "nbconvert_exporter": "python",
   "pygments_lexer": "ipython3",
   "version": "3.8.5"
  }
 },
 "nbformat": 4,
 "nbformat_minor": 4
}
