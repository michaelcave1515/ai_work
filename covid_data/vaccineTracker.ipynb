{
 "cells": [
  {
   "cell_type": "code",
   "execution_count": 2,
   "metadata": {},
   "outputs": [],
   "source": [
    "from bs4 import BeautifulSoup "
   ]
  },
  {
   "cell_type": "code",
   "execution_count": 4,
   "metadata": {},
   "outputs": [],
   "source": [
    "from selenium import webdriver # module containing implementations of browser drivers\n",
    "from webdriver_manager.chrome import ChromeDriverManager # Chrome driver \n",
    "from selenium.webdriver.support import expected_conditions as EC # method for writing code that waits until conditions are met \n",
    "from selenium.webdriver.support.ui import WebDriverWait # method for writing code that implements implicit or explicit waits\n",
    "from selenium.webdriver.common.by import By # method for locating elements by their attributes\n",
    "from selenium.webdriver import ActionChains # module for implementing browser interactions "
   ]
  },
  {
   "cell_type": "code",
   "execution_count": 5,
   "metadata": {},
   "outputs": [],
   "source": [
    "## data manipulation\n",
    "import pandas as pd\n",
    "from datetime import datetime\n",
    "import numpy as np\n",
    "\n",
    "## plotting\n",
    "import matplotlib.pyplot as plt"
   ]
  },
  {
   "cell_type": "code",
   "execution_count": null,
   "metadata": {},
   "outputs": [],
   "source": [
    "# Initialize Chrome browser and launch the dashboard in Chrome\n",
    "driver = webdriver.Chrome(ChromeDriverManager().install())\n",
    "url = 'https://www.arcgis.com/apps/opsdashboard/index.html#/75133e049f584ae8b51dc6cba740009a'\n",
    "driver.get(url)\n",
    "\n",
    "# Wait for element containing history of tests performed to load\n",
    "delay = 10\n",
    "try:\n",
    "    element_present = EC.presence_of_element_located((By.ID, 'ember208'))\n",
    "    WebDriverWait(driver, delay).until(element_present)\n",
    "except TimeoutException:\n",
    "    print('Timed out waiting for page to load')\n",
    "\n",
    "# Click on history of tests performed \n",
    "element1 = driver.find_element_by_id(\"ember208\")\n",
    "ActionChains(driver).click(element1).perform()\n",
    "\n",
    "# Wait for element containing history of reported cases to load\n",
    "try:\n",
    "    element_present = EC.presence_of_element_located((By.ID, 'ember238'))\n",
    "    WebDriverWait(driver, delay).until(element_present)\n",
    "except TimeoutException:\n",
    "    print('Timed out waiting for page to load')\n",
    "\n",
    "# Click on history of reported positive cases \n",
    "element2 = driver.find_element_by_id(\"ember238\")\n",
    "ActionChains(driver).click(element2).perform()\n",
    "\n",
    "# Extract and store page HTML\n",
    "soup = BeautifulSoup(driver.page_source, 'html.parser')\n",
    "driver.quit()"
   ]
  }
 ],
 "metadata": {
  "kernelspec": {
   "display_name": "Python 3",
   "language": "python",
   "name": "python3"
  },
  "language_info": {
   "codemirror_mode": {
    "name": "ipython",
    "version": 3
   },
   "file_extension": ".py",
   "mimetype": "text/x-python",
   "name": "python",
   "nbconvert_exporter": "python",
   "pygments_lexer": "ipython3",
   "version": "3.8.5"
  }
 },
 "nbformat": 4,
 "nbformat_minor": 4
}
